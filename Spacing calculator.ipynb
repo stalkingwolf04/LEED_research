{
 "cells": [
  {
   "cell_type": "code",
   "execution_count": 5,
   "metadata": {},
   "outputs": [],
   "source": [
    "import matplotlib.pyplot as plt\n",
    "import numpy as np\n",
    "import pandas as pd\n",
    "\n",
    "# Constants\n",
    "H_V_lattice = 3.493569812\n",
    "D_lattice = 2.470326905"
   ]
  },
  {
   "cell_type": "code",
   "execution_count": 12,
   "metadata": {},
   "outputs": [],
   "source": [
    "# Line fit parameters (from image analysis)\n",
    "H_A = 0.7707384404775303\n",
    "H_d_A = 0.032738373721392336\n",
    "H_B = 0.507881158392666\n",
    "H_d_B = 0.29181443985253985\n",
    "\n",
    "V_A = 0.7635937144289188\n",
    "V_d_A = 0.046189895975685805\n",
    "V_B = 0.6470749251271875\n",
    "V_d_B = 0.4196262338284149\n",
    "\n",
    "D_A = 0.7781788677967666\n",
    "D_d_A = 0.05421326366739712\n",
    "D_B = 0.4939931209205846\n",
    "D_d_B = 0.4801376271888745"
   ]
  },
  {
   "cell_type": "code",
   "execution_count": 11,
   "metadata": {},
   "outputs": [],
   "source": [
    "## Calculates reciprocal spacing between two data points\n",
    "# spacing = ratio*opening(E)\n",
    "# ratio = spacing_AU/opening_AU\n",
    "# Can select which line fit to use (horizontal, vertical, diagonal)\n",
    "\n",
    "def spacing_calc(energy, meas_opening, data):\n",
    "    meas_spacing = data[:,5] - data[:,1]\n",
    "    ratio = meas_spacing/meas_opening\n",
    "    direction = str(input('Which direction? H/V/D (case sensitive)'))\n",
    "    if direction == 'H':\n",
    "        opening_func = 0.7707384404775303*np.sqrt(energy) + 0.507881158392666\n",
    "    elif direction == 'V':\n",
    "        opening_func = 0.7635937144289188*np.sqrt(energy) + 0.6470749251271875\n",
    "    else:\n",
    "        opening_func = 0.7781788677967666*np.sqrt(energy) + 0.4939931209205846\n",
    "    \n",
    "    spacing = ratio*opening_func\n",
    "    return spacing\n"
   ]
  },
  {
   "cell_type": "code",
   "execution_count": 13,
   "metadata": {},
   "outputs": [],
   "source": [
    "# Calculates spacing in arbitrary units\n",
    "def spacing_AU(data):\n",
    "    meas_spacing = data[:,5] - data[:,1]\n",
    "    spacing_frac_error = np.sqrt(np.square(.5*(data[:,3] - data[:,2])) + np.square(.5*(data[:,6] - data[:,5])))/meas_spacing\n",
    "    return meas_spacing, spacing_frac_error\n",
    "\n",
    "# Calculates fractional error from line fit\n",
    "def frac_axb(A, d_A, B, d_B, sqrt_e):\n",
    "    frac = np.sqrt(np.square(sqrt_e*d_A) + np.square(d_B))/(A*sqrt_e + B)\n",
    "    return frac\n",
    "\n",
    "# Calculates fractional error in reciprocal spacing calculation\n",
    "def frac_error(frac_ab, frac_open, frac_space):\n",
    "    tot_frac_error = np.sqrt(np.square(frac_ab) + np.square(frac_open) + np.square(frac_space))\n",
    "    return tot_frac_error"
   ]
  },
  {
   "cell_type": "markdown",
   "metadata": {},
   "source": [
    "## Testing old camera data against fit"
   ]
  },
  {
   "cell_type": "code",
   "execution_count": 7,
   "metadata": {},
   "outputs": [],
   "source": [
    "## read in data into arrays\n",
    "df = pd.read_csv('Old Camera image data - Sheet1.csv')\n",
    "data = df.values\n",
    "electron_energy = data[:,1]\n",
    "sqrt_E = np.sqrt(electron_energy)\n",
    "opening_AU = data[:,2]\n",
    "opening_frac_error = np.std(opening_AU)/opening_AU\n",
    "\n",
    "H_data = data[:,5:13]\n",
    "V_data = data[:,16:24]\n",
    "D_data = data[:,27:]"
   ]
  },
  {
   "cell_type": "code",
   "execution_count": 15,
   "metadata": {},
   "outputs": [
    {
     "name": "stdout",
     "output_type": "stream",
     "text": [
      "Which direction? H/V/D (case sensitive)V\n",
      "H: [3.7108454  3.66841194 3.76732426 3.73309492 3.68084514 3.68458704\n",
      " 3.69120921 3.70084091 3.69724857]\n",
      "Which direction? H/V/D (case sensitive)H\n",
      "V: [3.67620213 3.60423009 3.66368661 3.63013219 3.60949713 3.66887879\n",
      " 3.6372702  3.65153205 3.638011  ]\n"
     ]
    }
   ],
   "source": [
    "#Calculate reciprocal spacing\n",
    "\n",
    "H_spacing = spacing_calc(electron_energy, opening_AU, H_data)\n",
    "print('H:', H_spacing)\n",
    "\n",
    "V_spacing = spacing_calc(electron_energy, opening_AU, V_data)\n",
    "print('V:', V_spacing)"
   ]
  },
  {
   "cell_type": "markdown",
   "metadata": {},
   "source": [
    "### Calculate absolute and fractional error\n",
    "\n"
   ]
  },
  {
   "cell_type": "code",
   "execution_count": 16,
   "metadata": {},
   "outputs": [
    {
     "name": "stdout",
     "output_type": "stream",
     "text": [
      "H Error: [0.26194827 0.26531351 0.26369441 0.25330104 0.25121586 0.2506549\n",
      " 0.24277439 0.25227994 0.25748843] H frac error [0.07058992 0.07232381 0.06999515 0.06785283 0.06824951 0.06802795\n",
      " 0.06577096 0.06816827 0.06964326]\n"
     ]
    }
   ],
   "source": [
    "H_frac_axb = frac_axb(H_A, H_d_A, H_B, H_d_B, sqrt_E)\n",
    "H_spacing_meas, H_frac_spacing = spacing_AU(H_data)\n",
    "H_frac_error = frac_error(H_frac_axb, opening_frac_error, H_frac_spacing)\n",
    "H_error = H_frac_error*H_spacing\n",
    "print('H Error:',H_error, 'H frac error', H_frac_error)\n"
   ]
  },
  {
   "cell_type": "code",
   "execution_count": 17,
   "metadata": {},
   "outputs": [
    {
     "name": "stdout",
     "output_type": "stream",
     "text": [
      "V Error: [0.34006603 0.33395678 0.33942531 0.32317837 0.31342422 0.31828187\n",
      " 0.31897563 0.32133018 0.32112337] V frac error [0.09250472 0.0926569  0.09264584 0.08902661 0.08683321 0.08675181\n",
      " 0.08769643 0.08799873 0.08826894]\n"
     ]
    }
   ],
   "source": [
    "V_frac_axb = frac_axb(V_A, V_d_A, V_B, V_d_B, sqrt_E)\n",
    "V_spacing_meas, V_frac_spacing = spacing_AU(V_data)\n",
    "V_frac_error = frac_error(V_frac_axb, opening_frac_error, V_frac_spacing)\n",
    "V_error = V_frac_error*V_spacing\n",
    "print('V Error:',V_error, 'V frac error', V_frac_error)"
   ]
  },
  {
   "cell_type": "code",
   "execution_count": 18,
   "metadata": {},
   "outputs": [
    {
     "name": "stdout",
     "output_type": "stream",
     "text": [
      "[3.44889713 3.40309843 3.50362985 3.47979388 3.42962928 3.43393213\n",
      " 3.44843482 3.44856097 3.43976013] [3.3361361  3.27027331 3.3242613  3.30695382 3.29607292 3.35059692\n",
      " 3.31829457 3.33020188 3.31688762]\n"
     ]
    }
   ],
   "source": [
    "#calculated spacing minus uncertainty\n",
    "print(H_spacing - H_error, V_spacing-V_error)"
   ]
  },
  {
   "cell_type": "markdown",
   "metadata": {},
   "source": [
    "# Plot theoretical spacing vs energy\n",
    "### for old camera data using new camera line fit"
   ]
  },
  {
   "cell_type": "code",
   "execution_count": null,
   "metadata": {},
   "outputs": [],
   "source": [
    "## scatter plot sqrt energy vs calculated spacing with constant line at theoretical spacing\n"
   ]
  }
 ],
 "metadata": {
  "kernelspec": {
   "display_name": "Python 3",
   "language": "python",
   "name": "python3"
  },
  "language_info": {
   "codemirror_mode": {
    "name": "ipython",
    "version": 3
   },
   "file_extension": ".py",
   "mimetype": "text/x-python",
   "name": "python",
   "nbconvert_exporter": "python",
   "pygments_lexer": "ipython3",
   "version": "3.6.5"
  }
 },
 "nbformat": 4,
 "nbformat_minor": 2
}
