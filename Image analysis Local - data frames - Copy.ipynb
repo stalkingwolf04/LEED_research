{
 "cells": [
  {
   "cell_type": "markdown",
   "metadata": {},
   "source": [
    "# G16 data"
   ]
  },
  {
   "cell_type": "code",
   "execution_count": 2,
   "metadata": {},
   "outputs": [],
   "source": [
    "import matplotlib.pyplot as plt\n",
    "import numpy as np\n",
    "import pandas as pd\n",
    "\n",
    "### Read in data from specified .csv file\n",
    "df = pd.read_csv('New camera image data - Sheet1.csv')\n",
    "data = df.values\n",
    "\n",
    "## Comment in/out next line to see formatting of data ###\n",
    "# print(df.loc[0,'Electron Energy'])"
   ]
  },
  {
   "cell_type": "code",
   "execution_count": 3,
   "metadata": {},
   "outputs": [],
   "source": [
    "# print(df.loc[0,:])"
   ]
  },
  {
   "cell_type": "code",
   "execution_count": 4,
   "metadata": {},
   "outputs": [],
   "source": [
    "### Constants ###\n",
    "N = len(df.index)   # number of images in Powershot G16 Data\n",
    "H_V_lattice = 3.493569812  #Reciprocal distance between Horizontal and Vertical Cu100 lattice points\n",
    "D_lattice = 2.470326905    #Reciprocal distance between Diagonal Cu100 lattice points"
   ]
  },
  {
   "cell_type": "code",
   "execution_count": 5,
   "metadata": {},
   "outputs": [],
   "source": [
    "## Data Values from dataframe ##\n",
    "energy = df.loc[:,'Electron Energy']\n",
    "sqrtE = np.sqrt(energy)\n",
    "opening_m = df.loc[:,'Opening']\n",
    "opening_m_error = np.std(opening_m)/opening_m"
   ]
  },
  {
   "cell_type": "code",
   "execution_count": 6,
   "metadata": {},
   "outputs": [],
   "source": [
    "####### H V D dataframes\n",
    "#select columns of interest\n",
    "hcols = ['H_Xpeak_1', 'H_Half max left_1', 'H_Half max right_1', 'H_Xpeak_2', 'H_Half max left_2', 'H_Half max right_2']\n",
    "vcols = ['V_Xpeak_1', 'V_Half max left_1', 'V_Half max right_1', 'V_Xpeak_2', 'V_Half max left_2', 'V_Half max right_2']\n",
    "dcols = ['D_Xpeak_1', 'D_Half max left_1', 'D_Half max right_1', 'D_Xpeak_2', 'D_Half max left_2', 'D_Half max right_2']\n",
    "\n",
    "#select wanted portions of main dataframe\n",
    "H_df = df[hcols]\n",
    "V_df = df[vcols]\n",
    "D_df = df[dcols]\n",
    "\n",
    "##### Only run next cell once! it fixes the first few data points"
   ]
  },
  {
   "cell_type": "code",
   "execution_count": 21,
   "metadata": {},
   "outputs": [
    {
     "name": "stderr",
     "output_type": "stream",
     "text": [
      "C:\\ProgramData\\Anaconda3\\lib\\site-packages\\pandas\\core\\indexing.py:189: SettingWithCopyWarning: \n",
      "A value is trying to be set on a copy of a slice from a DataFrame\n",
      "\n",
      "See the caveats in the documentation: http://pandas.pydata.org/pandas-docs/stable/indexing.html#indexing-view-versus-copy\n",
      "  self._setitem_with_indexer(indexer, value)\n",
      "C:\\ProgramData\\Anaconda3\\lib\\site-packages\\ipykernel_launcher.py:1: SettingWithCopyWarning: \n",
      "A value is trying to be set on a copy of a slice from a DataFrame\n",
      "\n",
      "See the caveats in the documentation: http://pandas.pydata.org/pandas-docs/stable/indexing.html#indexing-view-versus-copy\n",
      "  \"\"\"Entry point for launching an IPython kernel.\n",
      "C:\\ProgramData\\Anaconda3\\lib\\site-packages\\ipykernel_launcher.py:2: SettingWithCopyWarning: \n",
      "A value is trying to be set on a copy of a slice from a DataFrame\n",
      "\n",
      "See the caveats in the documentation: http://pandas.pydata.org/pandas-docs/stable/indexing.html#indexing-view-versus-copy\n",
      "  \n"
     ]
    }
   ],
   "source": [
    "# D_df.loc[[0,1,2,3,4],'D_Xpeak_1'] = .5*D_df.loc[[0,1,2,3,4],'D_Xpeak_1']\n",
    "# D_df.loc[[0,1,2,3,4],'D_Xpeak_2'] = .5*D_df.loc[[0,1,2,3,4],'D_Xpeak_2']\n",
    "# print(D_df.loc[[0,1,2,3,4],'D_Xpeak_2'] - D_df.loc[[0,1,2,3,4], 'D_Xpeak_1'])"
   ]
  },
  {
   "cell_type": "code",
   "execution_count": 8,
   "metadata": {},
   "outputs": [],
   "source": [
    "### Calculated Values ###\n",
    "#Screen opening and opening error\n",
    "def recip_openingANDerror(lattice, data, Opening_A, Error_opening_AU):\n",
    "    spacing_AU = data.iloc[:,3] - data.iloc[:,0]         #Calculate distance between points (Right_x_position - Left_x_position)\n",
    "    opening = lattice*(Opening_A/spacing_AU)   #Calculate opening size in reciprocal space (lattice spacing*(Opening[AU]/Lattice spacing[AU]))\n",
    "    d_left = .5*(data.iloc[:,2] - data.iloc[:,1])        #absolute error in left point .5*(width of peak at half max)\n",
    "    d_right = .5*(data.iloc[:,5] - data.iloc[:,4])       #absolute error in right point .5*(width of peak at half max)\n",
    "    d_spacing = np.sqrt(np.square(d_left) + np.square(d_right))   #absolute error in spacing (addition of absolute error in quadrature)\n",
    "    frac_error = np.sqrt(np.square(d_spacing/spacing_AU) + np.square(Error_opening_AU/Opening_A))   #fractional error in spacing\n",
    "    error_recip = frac_error*opening           #fractional error in opening calculation\n",
    "    return opening, error_recip\n",
    "\n",
    "#least squares fit with error in slope and intercept\n",
    "##details of calculation in next cell\n",
    "def w_lst_sq(opening_recip, error_recip, e_energy, sqrt_e):\n",
    "    weights = 1/np.square(error_recip)         #weights for line fit from error in opening\n",
    "    Delta = np.sum(weights)*np.sum(weights*e_energy)-np.square(np.sum(weights*sqrt_e))\n",
    "    intercept = ((np.sum(weights*e_energy)*np.sum(weights*opening_recip))\n",
    "                 -(np.sum(weights*sqrt_e)*np.sum(weights*sqrt_e*opening_recip)))/Delta\n",
    "    slope = (np.sum(weights)*np.sum(weights*sqrt_e*opening_recip)-np.sum(weights*sqrt_e)*np.sum(weights*opening_recip))/Delta\n",
    "    intercept_error = np.sqrt(np.sum(weights*e_energy)/Delta)\n",
    "    slope_error = np.sqrt(np.sum(weights)/Delta)\n",
    "    return slope, slope_error, intercept, intercept_error"
   ]
  },
  {
   "cell_type": "markdown",
   "metadata": {},
   "source": [
    "$$ B = \\frac{\\sum{w  E} \\sum{w  o} - \\sum w\\sqrt{E} \\sum w o \\sqrt{E} }{\\Delta} $$\n",
    "\n",
    "$$ A = \\frac{\\sum{w} \\sum{w o \\sqrt{E}}-\\sum{w\\sqrt e} \\sum{w o}}{\\Delta} $$\n",
    "\n",
    "Where \n",
    "$$ \\Delta = \\sum{w} \\sum{w E}- (\\sum w\\sqrt{e})^2 $$\n",
    "And \n",
    "$$ Y = Ax + B $$"
   ]
  },
  {
   "cell_type": "code",
   "execution_count": 9,
   "metadata": {},
   "outputs": [
    {
     "name": "stdout",
     "output_type": "stream",
     "text": [
      "H Slope + error 0.7702071387066763 0.03752820129150288 Intercept + error: 0.5130240351966252 0.3349668602467557\n",
      "V Slope + error 0.7650675038207839 0.04814540132896146 Intercept + error: 0.6314761751409919 0.43293008006211614\n",
      "D Slope + error 1.6168327898137058 0.0376049414081983 Intercept + error: -8.9722969071569 0.2949285154308865\n"
     ]
    }
   ],
   "source": [
    "H_recip_opening, H_opening_error = recip_openingANDerror(H_V_lattice, H_df, opening_m, opening_m_error)\n",
    "H_slope, H_slope_error, H_intercept, H_intercept_error = w_lst_sq(H_recip_opening, H_opening_error, energy, sqrtE)\n",
    "print('H Slope + error', H_slope, H_slope_error, 'Intercept + error:', H_intercept, H_intercept_error)\n",
    "\n",
    "V_recip_opening, V_opening_error = recip_openingANDerror(H_V_lattice, V_df, opening_m, opening_m_error)\n",
    "V_slope, V_slope_error, V_intercept, V_intercept_error = w_lst_sq(V_recip_opening, V_opening_error, energy, sqrtE)\n",
    "print('V Slope + error', V_slope, V_slope_error, 'Intercept + error:', V_intercept, V_intercept_error)\n",
    "\n",
    "D_recip_opening, D_opening_error = recip_openingANDerror(D_lattice, D_df, opening_m, opening_m_error)\n",
    "D_slope, D_slope_error, D_intercept, D_intercept_error = w_lst_sq(D_recip_opening, D_opening_error, energy, sqrtE)\n",
    "print('D Slope + error', D_slope, D_slope_error, 'Intercept + error:', D_intercept, D_intercept_error)"
   ]
  },
  {
   "cell_type": "markdown",
   "metadata": {},
   "source": [
    "# Old camera data"
   ]
  },
  {
   "cell_type": "code",
   "execution_count": 10,
   "metadata": {},
   "outputs": [],
   "source": [
    "#Read in data from old camera, same format as above\n",
    "df2 = pd.read_csv('Old Camera image data - Sheet1.csv')\n",
    "data2 = df2.values"
   ]
  },
  {
   "cell_type": "code",
   "execution_count": 11,
   "metadata": {},
   "outputs": [],
   "source": [
    "### Data Values ###\n",
    "#all values same format as above\n",
    "N2 = len(df2.index)\n",
    "energy2 = df2.loc[:,'Electron Energy']\n",
    "sqrtE2 = np.sqrt(energy2)\n",
    "opening_m2 = df2.loc[:,'Opening']\n",
    "opening_m_error2 = np.std(opening_m2)/opening_m2\n",
    "\n",
    "### Sections of data\n",
    "H_df2 = df2[hcols]\n",
    "# print(H_data[0,:])\n",
    "V_df2 = df2[vcols]\n",
    "# print(V_data[:,3])\n",
    "D_df2 = df2[dcols]\n",
    "# print(D_df2.loc[0][:])"
   ]
  },
  {
   "cell_type": "markdown",
   "metadata": {},
   "source": [
    "## Spacing calculations"
   ]
  },
  {
   "cell_type": "code",
   "execution_count": 28,
   "metadata": {},
   "outputs": [],
   "source": [
    "#Calculate reciprocal spacing between measured points using fit line\n",
    "def spacing_calc(energy, meas_opening, data, direction):\n",
    "    meas_spacing = data.iloc[:,3] - data.iloc[:,0]\n",
    "    ratio = meas_spacing/meas_opening\n",
    "    if direction == 'H':\n",
    "        opening_func = 0.7707384404775303*np.sqrt(energy) + 0.507881158392666\n",
    "    elif direction == 'V':\n",
    "        opening_func = 0.7635937144289188*np.sqrt(energy) + 0.6470749251271875\n",
    "    elif direction == 'D':\n",
    "        opening_func = 0.7781788677967666*np.sqrt(energy) + 0.4939931209205846\n",
    "    else:\n",
    "        print('Please re-run cell and select a valid direction')\n",
    "    \n",
    "    spacing = ratio*opening_func\n",
    "    return spacing"
   ]
  },
  {
   "cell_type": "code",
   "execution_count": 29,
   "metadata": {},
   "outputs": [],
   "source": [
    "# H fits\n",
    "HH1_spacing = spacing_calc(energy, opening_m, H_df, 'H')\n",
    "HV1_spacing = spacing_calc(energy, opening_m, V_df, 'H')\n",
    "HD1_spacing = spacing_calc(energy, opening_m, D_df, 'H')\n",
    "HH2_spacing = spacing_calc(energy2, opening_m2, H_df2, 'H')\n",
    "HV2_spacing = spacing_calc(energy2, opening_m2, V_df2, 'H')\n",
    "HD2_spacing = spacing_calc(energy2, opening_m2, D_df2, 'H')"
   ]
  },
  {
   "cell_type": "code",
   "execution_count": 30,
   "metadata": {},
   "outputs": [],
   "source": [
    "# V fits\n",
    "VH1_spacing = spacing_calc(energy, opening_m, H_df, 'V')\n",
    "VV1_spacing = spacing_calc(energy, opening_m, V_df, 'V')\n",
    "VD1_spacing = spacing_calc(energy, opening_m, D_df, 'V')\n",
    "VH2_spacing = spacing_calc(energy2, opening_m2, H_df2, 'V')\n",
    "VV2_spacing = spacing_calc(energy2, opening_m2, V_df2, 'V')\n",
    "VD2_spacing = spacing_calc(energy2, opening_m2, D_df2, 'V')"
   ]
  },
  {
   "cell_type": "code",
   "execution_count": 31,
   "metadata": {},
   "outputs": [],
   "source": [
    "# D fits\n",
    "DH1_spacing = spacing_calc(energy, opening_m, H_df, 'D')\n",
    "DV1_spacing = spacing_calc(energy, opening_m, V_df, 'D')\n",
    "DD1_spacing = spacing_calc(energy, opening_m, D_df, 'D')\n",
    "DH2_spacing = spacing_calc(energy2, opening_m2, H_df2, 'D')\n",
    "DV2_spacing = spacing_calc(energy2, opening_m2, V_df2, 'D')\n",
    "DD2_spacing = spacing_calc(energy2, opening_m2, D_df2, 'D')"
   ]
  },
  {
   "cell_type": "markdown",
   "metadata": {},
   "source": [
    "## Error calculations"
   ]
  },
  {
   "cell_type": "code",
   "execution_count": 16,
   "metadata": {},
   "outputs": [],
   "source": [
    "### Following calculations are just for looking at components of error calculations\n",
    "\n",
    "#Calculate spacing between measured points in Arbitrary Units and fractional error\n",
    "def spacing_AU(data):  \n",
    "    meas_spacing = data.iloc[:,3] - data.iloc[:,0]\n",
    "    spacing_frac_error = np.sqrt(np.square(.5*(data.iloc[:,2] - data.iloc[:,1]))\n",
    "                                 + np.square(.5*(data.iloc[:,5] - data.iloc[:,4])))/meas_spacing\n",
    "    return meas_spacing, spacing_frac_error\n",
    "\n",
    "#Fractional error in line fit parameters A and B\n",
    "def frac_axb(A, d_A, B, d_B, sqrt_e):\n",
    "    frac = np.sqrt(np.square(sqrt_e*d_A) + np.square(d_B))/(A*sqrt_e + B)\n",
    "    return frac\n",
    "\n",
    "#Calculate fractional error in opening calculation from line fit\n",
    "def frac_error(frac_ab, frac_open, data): \n",
    "    meas_spacing = data.iloc[:,3] - data.iloc[:,0]\n",
    "    spacing_frac_error = np.sqrt(np.square(.5*(data.iloc[:,2] - data.iloc[:,1])) + np.square(.5*(data.iloc[:,5] - data.iloc[:,4])))/meas_spacing\n",
    "    tot_frac_error = np.sqrt(np.square(frac_ab) + np.square(frac_open) + np.square(spacing_frac_error))\n",
    "    return tot_frac_error"
   ]
  },
  {
   "cell_type": "code",
   "execution_count": 34,
   "metadata": {},
   "outputs": [],
   "source": [
    "#calculate total error in calculated spacing\n",
    "    # calculate measured spacing [AU]\n",
    "    #  \"  fractional error in measured spacing [%]\n",
    "    #  \"  fractional error in selected line fit [%]\n",
    "    #  \"  total fractional error [%]\n",
    "    #  \"  total error in calculated spacing [A^-1]\n",
    "def tot_error(direction, sqrt_e, frac_open, data, spacing):\n",
    "    meas_spacing = data.iloc[:,3] - data.iloc[:,0]\n",
    "    spacing_frac_error = np.sqrt(np.square(.5*(data.iloc[:,2] - data.iloc[:,1])) + np.square(.5*(data.iloc[:,5] - data.iloc[:,4])))/meas_spacing\n",
    "    if direction == 'H':\n",
    "        frac_ab = np.sqrt(np.square(sqrt_e*H_slope_error) + np.square(H_intercept_error))/(H_slope*sqrt_e + H_intercept)\n",
    "    elif direction == 'V':\n",
    "        frac_ab = np.sqrt(np.square(sqrt_e*V_slope_error) + np.square(V_intercept_error))/(V_slope*sqrt_e + V_intercept)\n",
    "    elif direction == 'D':\n",
    "        frac_ab = np.sqrt(np.square(sqrt_e*D_slope_error) + np.square(D_intercept_error))/(D_slope*sqrt_e + D_intercept)\n",
    "    else:\n",
    "        print('Please re-run cell and select a valid direction')\n",
    "        \n",
    "    tot_frac_error = np.sqrt(np.square(frac_ab) + np.square(frac_open) + np.square(spacing_frac_error))\n",
    "    tot_error = tot_frac_error*spacing\n",
    "    return tot_error"
   ]
  },
  {
   "cell_type": "code",
   "execution_count": 38,
   "metadata": {},
   "outputs": [],
   "source": [
    "#Total absolute error in reciprocal spacing\n",
    "HH1_error = tot_error('H', sqrtE, opening_m_error, H_df, HH1_spacing)\n",
    "HV1_error = tot_error('H', sqrtE, opening_m_error, V_df, HV1_spacing)\n",
    "HD1_error = tot_error('H', sqrtE, opening_m_error, D_df, HD1_spacing)\n",
    "HH2_error = tot_error('H', sqrtE2, opening_m_error2, H_df2, HH2_spacing)\n",
    "HV2_error = tot_error('H', sqrtE2, opening_m_error2, V_df2, HV2_spacing)\n",
    "HD2_error = tot_error('H', sqrtE2, opening_m_error2, D_df2, HD2_spacing)\n",
    "\n",
    "VH1_error = tot_error('V', sqrtE, opening_m_error, H_df, VH1_spacing)\n",
    "VV1_error = tot_error('V', sqrtE, opening_m_error, V_df, VV1_spacing)\n",
    "VD1_error = tot_error('V', sqrtE, opening_m_error, D_df, VD1_spacing)\n",
    "VH2_error = tot_error('V', sqrtE2, opening_m_error2, H_df2, VH2_spacing)\n",
    "VV2_error = tot_error('V', sqrtE2, opening_m_error2, V_df2, VV2_spacing)\n",
    "VD2_error = tot_error('V', sqrtE2, opening_m_error2, D_df2, VD2_spacing)\n",
    "\n",
    "DH1_error = tot_error('D', sqrtE, opening_m_error, H_df, DH1_spacing)\n",
    "DV1_error = tot_error('D', sqrtE, opening_m_error, V_df, DV1_spacing)\n",
    "DD1_error = tot_error('D', sqrtE, opening_m_error, D_df, DD1_spacing)\n",
    "DH2_error = tot_error('D', sqrtE2, opening_m_error2, H_df2, DH2_spacing)\n",
    "DV2_error = tot_error('D', sqrtE2, opening_m_error2, V_df2, DV2_spacing)\n",
    "DD2_error = tot_error('D', sqrtE2, opening_m_error2, D_df2, DD2_spacing)"
   ]
  },
  {
   "cell_type": "markdown",
   "metadata": {},
   "source": [
    "# Plot theoretical spacing vs energy\n",
    "### for old camera data using new camera line fit"
   ]
  },
  {
   "cell_type": "code",
   "execution_count": 26,
   "metadata": {},
   "outputs": [],
   "source": [
    "x1 = sqrtE\n",
    "x2 = sqrtE2"
   ]
  },
  {
   "cell_type": "code",
   "execution_count": 46,
   "metadata": {},
   "outputs": [
    {
     "data": {
      "text/plain": [
       "<matplotlib.legend.Legend at 0xc8fb828>"
      ]
     },
     "execution_count": 46,
     "metadata": {},
     "output_type": "execute_result"
    },
    {
     "data": {
      "image/png": "[encoded data removed]",
      "text/plain": [
       "<Figure size 1440x720 with 3 Axes>"
      ]
     },
     "metadata": {},
     "output_type": "display_data"
    }
   ],
   "source": [
    "#Compare all plots in a row\n",
    "f, (ax1, ax2, ax3) = plt.subplots(1, 3, sharex=False, sharey=True)\n",
    "\n",
    "#figure settings\n",
    "f.set_figheight(10)\n",
    "f.set_figwidth(20)\n",
    "f.subplots_adjust(wspace=0)\n",
    "\n",
    "#subplot settings\n",
    "ax1.set_title('H fits')\n",
    "ax1.grid(which='major', axis='y')\n",
    "ax2.set_title('V fits')\n",
    "ax2.grid(which='major', axis='y')\n",
    "ax3.set_title('D fits')\n",
    "ax3.grid(which='major', axis='y')\n",
    "\n",
    "#add horizontal lines on all 3 subplots\n",
    "ax1.hlines(H_V_lattice, 7, 13.5)\n",
    "ax1.hlines(D_lattice, 7, 13.5)\n",
    "ax2.hlines(H_V_lattice, 7, 13.5)\n",
    "ax2.hlines(D_lattice, 7, 13.5)\n",
    "ax3.hlines(H_V_lattice, 7, 13.5)\n",
    "ax3.hlines(D_lattice, 7, 13.5)\n",
    "\n",
    "# Compare data sets using H fit\n",
    "ax1.errorbar(x1, HH1_spacing, yerr=HH1_error, ls='none', color='b', label='HH1', marker='o')\n",
    "ax1.errorbar(x1, HV1_spacing, yerr=HV1_error, ls='none', color='g', label='HV1', marker='o')\n",
    "ax1.errorbar(x1, HD1_spacing, yerr=HD1_error, ls='none', color='r', label='HD1', marker='o')\n",
    "\n",
    "ax1.errorbar(x2, HH2_spacing, yerr=HH2_error, ls='none', color='c', label='HH2', marker='o')\n",
    "ax1.errorbar(x2, HV2_spacing, yerr=HV2_error, ls='none', color='m', label='HV2', marker='o')\n",
    "ax1.errorbar(x2, HD2_spacing, yerr=HD2_error, ls='none', color='y', label='HD2', marker='o')\n",
    "\n",
    "# Compare data sets using V fit\n",
    "ax2.errorbar(x1, VH1_spacing, yerr=VH1_error, ls='none', color='b', label='VH1', marker='o')\n",
    "ax2.errorbar(x1, VV1_spacing, yerr=VV1_error, ls='none', color='g', label='VV1', marker='o')\n",
    "ax2.errorbar(x1, VD1_spacing, yerr=VD1_error, ls='none', color='r', label='VD1', marker='o')\n",
    "\n",
    "ax2.errorbar(x2, VH2_spacing, yerr=VH2_error, ls='none', color='c', label='VH2', marker='o')\n",
    "ax2.errorbar(x2, VV2_spacing, yerr=VV2_error, ls='none', color='m', label='VV2', marker='o')\n",
    "ax2.errorbar(x2, VD2_spacing, yerr=VD2_error, ls='none', color='y', label='VD2', marker='o')\n",
    "\n",
    "# Compare data sets using D fit\n",
    "ax3.errorbar(x1, DH1_spacing, yerr=DH1_error, ls='none', color='b', label='DH1', marker='o')\n",
    "ax3.errorbar(x1, DV1_spacing, yerr=DV1_error, ls='none', color='g', label='DV1', marker='o')\n",
    "ax3.errorbar(x1, DD1_spacing, yerr=DD1_error, ls='none', color='r', label='DD1', marker='o')\n",
    "\n",
    "ax3.errorbar(x2, DH2_spacing, yerr=DH2_error, ls='none', color='c', label='DH2', marker='o')\n",
    "ax3.errorbar(x2, DV2_spacing, yerr=DV2_error, ls='none', color='m', label='DV2', marker='o')\n",
    "ax3.errorbar(x2, DD2_spacing, yerr=DD2_error, ls='none', color='y', label='DD2', marker='o')\n",
    "\n",
    "\n",
    "ax1.legend(loc='upper left')\n",
    "ax2.legend(loc='upper left')\n",
    "ax3.legend(loc='upper left')"
   ]
  },
  {
   "cell_type": "code",
   "execution_count": null,
   "metadata": {},
   "outputs": [],
   "source": []
  }
 ],
 "metadata": {
  "kernelspec": {
   "display_name": "Python 3",
   "language": "python",
   "name": "python3"
  },
  "language_info": {
   "codemirror_mode": {
    "name": "ipython",
    "version": 3
   },
   "file_extension": ".py",
   "mimetype": "text/x-python",
   "name": "python",
   "nbconvert_exporter": "python",
   "pygments_lexer": "ipython3",
   "version": "3.6.5"
  }
 },
 "nbformat": 4,
 "nbformat_minor": 2
}
