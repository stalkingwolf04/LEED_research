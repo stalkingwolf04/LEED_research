{
  "nbformat": 4,
  "nbformat_minor": 0,
  "metadata": {
    "colab": {
      "name": "Image analysis.ipynb",
      "version": "0.3.2",
      "provenance": [],
      "include_colab_link": true
    },
    "kernelspec": {
      "name": "python3",
      "display_name": "Python 3"
    },
    "accelerator": "GPU"
  },
  "cells": [
    {
      "cell_type": "markdown",
      "metadata": {
        "id": "view-in-github",
        "colab_type": "text"
      },
      "source": [
        "[View in Colaboratory](https://colab.research.google.com/github/stalkingwolf04/LEED_research/blob/master/Image_analysis.ipynb)"
      ]
    },
    {
      "metadata": {
        "id": "A_ZTF5RA9iPb",
        "colab_type": "code",
        "colab": {}
      },
      "cell_type": "code",
      "source": [
        "!pip install --upgrade -q gspread\n",
        "from google.colab import auth\n",
        "auth.authenticate_user()\n",
        "\n",
        "import gspread\n",
        "from oauth2client.client import GoogleCredentials\n",
        "gc = gspread.authorize(GoogleCredentials.get_application_default())\n",
        "\n",
        "import matplotlib.pyplot as plt\n",
        "import numpy as np\n",
        "import pandas as pd\n",
        "\n",
        "worksheet = gc.open('New camera image data').sheet1\n",
        "\n"
      ],
      "execution_count": 0,
      "outputs": []
    },
    {
      "metadata": {
        "id": "nZZCG43ue-XY",
        "colab_type": "code",
        "colab": {
          "base_uri": "https://localhost:8080/",
          "height": 34
        },
        "outputId": "c02edd57-770c-489a-c692-1b699cbe2a7b"
      },
      "cell_type": "code",
      "source": [
        "##########################################################\n",
        "#electron energies\n",
        "electron_energy = np.zeros(16)\n",
        "electron_energy_cells = worksheet.range('B2:B17')  #create list of cells\n",
        "for x in range(0,16):                              #convert list of cells to list of cell values  \n",
        "  electron_energy[x] = float(electron_energy_cells[x].value)\n",
        "#print(electron_energy[0:3])\n",
        "\n",
        "#opening in AU\n",
        "opening_AU = np.zeros(16)\n",
        "for y in range(0,16):\n",
        "  opening_AU[y] = float(np.array(worksheet.range('C2:C17')[y].value))\n",
        "#  print(opening_AU[y], y, float(np.array(worksheet.range('C2:C17')[y].value)))     \n",
        "#print(opening_AU)\n",
        "\n",
        "opening_AU_best = np.mean(opening_AU)\n",
        "print(opening_AU_best)"
      ],
      "execution_count": 2,
      "outputs": [
        {
          "output_type": "stream",
          "text": [
            "0.9803124999999999\n"
          ],
          "name": "stdout"
        }
      ]
    },
    {
      "metadata": {
        "id": "eSrTOXwnDJWp",
        "colab_type": "code",
        "colab": {
          "base_uri": "https://localhost:8080/",
          "height": 34
        },
        "outputId": "a64da810-5f60-4a80-b0fc-16ada14b8ca5"
      },
      "cell_type": "code",
      "source": [
        "### uncertainty in opening_AU ###\n",
        "# given by standard deviation in opening measurements\n",
        "error_opening_AU = np.std(opening_AU)\n",
        "print(error_opening_AU)"
      ],
      "execution_count": 3,
      "outputs": [
        {
          "output_type": "stream",
          "text": [
            "0.011520192869479235\n"
          ],
          "name": "stdout"
        }
      ]
    },
    {
      "metadata": {
        "id": "o7JGIXs8xJz3",
        "colab_type": "code",
        "colab": {}
      },
      "cell_type": "code",
      "source": [
        "### different way of reading in data? ###\n",
        "####################################################\n",
        "# import worksheet section as 1d array/list\n",
        "# call sections of list as columns of 2d array\n",
        "# \n",
        "# h_data = np.zeros((6,8))\n",
        "# H_data_cells = np.array(worksheet.range('G2:M17'))\n",
        "# print(H_data_cells)\n",
        "# y = 0\n",
        "# x = 0\n",
        "# while y <= 8:\n",
        "#   for x in range(0,6):\n",
        "#     h_data[x,y] = float(H_data_cells[x].value)\n",
        "#     y += 1\n",
        "#   for x in range(7,13):\n",
        "#     h_data[x,y] = float(H_data_cells[x].value)\n",
        "#   for x in range(14,20):\n",
        "#     h_data[x,y] = float(H_data_cells[x].value)\n",
        "  \n"
      ],
      "execution_count": 0,
      "outputs": []
    },
    {
      "metadata": {
        "id": "N7YmBscJ9RpV",
        "colab_type": "code",
        "colab": {}
      },
      "cell_type": "code",
      "source": [
        "## Reads in data from spreadsheet as a 2D numpy array\n",
        "## Horizontal (first half - colab doesn't want to read in more than 4 columns at a time)\n",
        "\n",
        "y = 0\n",
        "H_data = np.zeros((6,16))\n",
        "for y in range(0,16):\n",
        "  H_data[0,y] = float(np.array(worksheet.range('G2:G17'))[y].value)\n",
        "  H_data[1,y] = float(np.array(worksheet.range('H2:H17'))[y].value)\n",
        "  H_data[2,y] = float(np.array(worksheet.range('I2:I17'))[y].value)\n",
        "  "
      ],
      "execution_count": 0,
      "outputs": []
    },
    {
      "metadata": {
        "id": "gmH5UlPQ445t",
        "colab_type": "code",
        "colab": {}
      },
      "cell_type": "code",
      "source": [
        "## Horizontal second half\n",
        "\n",
        "y = 0\n",
        "for y in range(0,16):\n",
        "  H_data[3,y] = float(np.array(worksheet.range('K2:K17'))[y].value)\n",
        "  H_data[4,y] = float(np.array(worksheet.range('L2:L17'))[y].value)\n",
        "  H_data[5,y] = float(np.array(worksheet.range('M2:M17'))[y].value)\n",
        "  \n",
        "#print(H_data)"
      ],
      "execution_count": 0,
      "outputs": []
    },
    {
      "metadata": {
        "id": "znixrSIP9PZL",
        "colab_type": "code",
        "colab": {}
      },
      "cell_type": "code",
      "source": [
        "## Vertical first half\n",
        "y = 0\n",
        "V_data = np.zeros((6,16))\n",
        "for y in range(0,16):\n",
        "  V_data[0,y] = float(np.array(worksheet.range('R2:R17'))[y].value)\n",
        "  V_data[1,y] = float(np.array(worksheet.range('S2:S17'))[y].value)\n",
        "  V_data[2,y] = float(np.array(worksheet.range('T2:T17'))[y].value)\n",
        "  "
      ],
      "execution_count": 0,
      "outputs": []
    },
    {
      "metadata": {
        "id": "xzMsXSd99lyw",
        "colab_type": "code",
        "colab": {}
      },
      "cell_type": "code",
      "source": [
        "## Vertical second half\n",
        "\n",
        "y = 0\n",
        "for y in range(0,16):\n",
        "  V_data[3,y] = float(np.array(worksheet.range('V2:V17'))[y].value)\n",
        "  V_data[4,y] = float(np.array(worksheet.range('W2:W17'))[y].value)\n",
        "  V_data[5,y] = float(np.array(worksheet.range('X2:X17'))[y].value)\n",
        "#print(V_data)"
      ],
      "execution_count": 0,
      "outputs": []
    },
    {
      "metadata": {
        "id": "DGnFT3wc9ll4",
        "colab_type": "code",
        "colab": {}
      },
      "cell_type": "code",
      "source": [
        "## Diagonal first half\n",
        "y = 0\n",
        "D_data = np.zeros((6,16))\n",
        "for y in range(0,16):\n",
        "  D_data[0,y] = float(np.array(worksheet.range('AC2:AC17'))[y].value)\n",
        "  D_data[1,y] = float(np.array(worksheet.range('AD2:AD17'))[y].value)\n",
        "  D_data[2,y] = float(np.array(worksheet.range('AE2:AE17'))[y].value)\n",
        " "
      ],
      "execution_count": 0,
      "outputs": []
    },
    {
      "metadata": {
        "id": "yOQ6GDQc9lA3",
        "colab_type": "code",
        "colab": {}
      },
      "cell_type": "code",
      "source": [
        "## Diagonal second half\n",
        "y = 0\n",
        "for y in range(0,16):\n",
        "  D_data[3,y] = float(np.array(worksheet.range('AG2:AG17'))[y].value)\n",
        "  D_data[4,y] = float(np.array(worksheet.range('AH2:AH17'))[y].value)\n",
        "  D_data[5,y] = float(np.array(worksheet.range('AI2:AI17'))[y].value)\n",
        "  \n",
        "#print(D_data)"
      ],
      "execution_count": 0,
      "outputs": []
    },
    {
      "metadata": {
        "id": "1ajk0AQGHHJ_",
        "colab_type": "code",
        "colab": {
          "base_uri": "https://localhost:8080/",
          "height": 68
        },
        "outputId": "329f7e63-295c-4ed8-ecf6-c54554ff0998"
      },
      "cell_type": "code",
      "source": [
        "# print(D_data[0],D_data[3])\n",
        "# for y in range(0,16):\n",
        "#   print(float(np.array(worksheet.range('AC2:AC17'))[y].value))\n",
        "  "
      ],
      "execution_count": 82,
      "outputs": [
        {
          "output_type": "stream",
          "text": [
            "[0.0414 0.029  0.0299 0.044  0.0243 0.0182 0.0191 0.0222 0.0279 0.0217\n",
            " 0.0243 0.0253 0.0273 0.0214 0.022  0.0323] [0.856 0.807 0.782 0.771 0.717 0.345 0.349 0.34  0.33  0.318 0.315 0.312\n",
            " 0.306 0.292 0.288 0.292]\n"
          ],
          "name": "stdout"
        }
      ]
    },
    {
      "metadata": {
        "id": "iHiGJA1YF_-c",
        "colab_type": "code",
        "colab": {}
      },
      "cell_type": "code",
      "source": [
        "### 2D Data Array format ###\n",
        "#\n",
        "#[        0         |      1        |       2        |         3         |      4        |       5        ]\n",
        "#[left peak position|half max 1 left|half max 1 right|right peak position|half max 2 left|half max 2 right]\n",
        "#\n"
      ],
      "execution_count": 0,
      "outputs": []
    },
    {
      "metadata": {
        "id": "YUaimshAB15Q",
        "colab_type": "code",
        "colab": {}
      },
      "cell_type": "code",
      "source": [
        "##### Opening width calcuations ####\n",
        "\n",
        "### Horizontal Calculations ###\n",
        "#Horizontal spacing in AU\n",
        "H_spacing_AU = H_data[3] - H_data[0]\n",
        "#Horiz. fractional uncertainty in AU\n",
        "H_frac_error = .5*(H_data[2] - H_data[2]) + .5*(H_data[5] - H_data[4])/opening_AU_best\n",
        "#Horiz. opening in reciprocal space\n",
        "H_opening_recip = 3.493569812*(opening_AU_best/H_spacing_AU)\n",
        "#Horiz. uncertainty in recip.\n",
        "H_error_recip = H_frac_error*H_opening_recip\n",
        "\n",
        "### Vertical Calculations ###\n",
        "#Vertical spacing in AU\n",
        "V_spacing_AU = V_data[3] - V_data[0]\n",
        "#Vert. uncertainty in AU\n",
        "V_frac_error = .5*(V_data[2] - V_data[2]) + .5*(V_data[5] - V_data[4])/opening_AU_best\n",
        "#Vert. opening in reciprocal space\n",
        "V_opening_recip = 3.493569812*(opening_AU_best/V_spacing_AU)\n",
        "#Vert. uncertainty in recip.\n",
        "V_error_recip = V_frac_error*V_opening_recip\n",
        "\n",
        "### Diagonal calculations ###\n",
        "#Diagonal spacing in AU\n",
        "D_spacing_AU = D_data[3] - D_data[0]\n",
        "#fix first 4 data points\n",
        "D_spacing_AU[:5] = D_spacing_AU[:5]/2\n",
        "\n",
        "#Diag. uncertainty in AU\n",
        "D_frac_error = .5*(D_data[2] - D_data[2]) + .5*(D_data[5] - D_data[4])/opening_AU_best\n",
        "#Diag. opening in reciprocal space\n",
        "D_opening_recip = 2.470326905*(opening_AU_best/D_spacing_AU)\n",
        "#Diag. uncertainty in recip.\n",
        "D_error_recip = D_frac_error*D_opening_recip\n"
      ],
      "execution_count": 0,
      "outputs": []
    },
    {
      "metadata": {
        "id": "rh5cISAZB9cP",
        "colab_type": "code",
        "colab": {
          "base_uri": "https://localhost:8080/",
          "height": 51
        },
        "outputId": "2c8933c7-ab7e-481a-cf67-f609ca6068f5"
      },
      "cell_type": "code",
      "source": [
        "\n",
        "# print(D_spacing_AU)\n",
        "# print(D_spacing_AU[0:7],D_opening_recip[0:7])"
      ],
      "execution_count": 163,
      "outputs": [
        {
          "output_type": "stream",
          "text": [
            "[0.4073  0.389   0.37605 0.3635  0.34635 0.3253  0.3283  0.3178  0.3021\n",
            " 0.2963  0.2907  0.2867  0.2787  0.2706  0.266   0.2597 ]\n"
          ],
          "name": "stdout"
        }
      ]
    },
    {
      "metadata": {
        "id": "wfxJLffL7Pcc",
        "colab_type": "code",
        "colab": {}
      },
      "cell_type": "code",
      "source": [
        "# H_spacing_AU[5:7] = [.4696,.4689]\n",
        "# V_spacing_AU[5:7] = [.4659,.4596]\n",
        "# D_spacing_AU[5:7] = [.3253,.3283]"
      ],
      "execution_count": 0,
      "outputs": []
    },
    {
      "metadata": {
        "id": "jgJDzVXlFoiY",
        "colab_type": "code",
        "colab": {
          "base_uri": "https://localhost:8080/",
          "height": 68
        },
        "outputId": "e2192d67-27cc-46e3-cf87-e34d2d332d2d"
      },
      "cell_type": "code",
      "source": [
        "### now its time to fit a line! ###\n",
        "#calculate sqrt(energy)\n",
        "sqrt_E = np.sqrt(electron_energy)\n",
        "# for x in range(0,16):\n",
        "#   print(sqrt_E[x],V_opening_recip[x],V_error_recip[x])\n",
        "\n",
        "\n",
        "### line fitting with uncertainty ###\n",
        "# least squares fitting\n",
        "# delta = 16*np.sum(electron_energy) - np.square(np.sum(sqrt_E))\n",
        "#[?] Horizontal\n",
        "# H_y_int = (np.sum(electron_energy)*np.sum(H_opening_recip) - np.sum(sqrt_E)np.sum(sqrt_E*H_opening_recip))/delta\n",
        "# H_slope = (16*np.sum(sqrt_E*H_opening_recip)-np.sum(sqrt_E)*np.sum(H_opening_recip))/delta\n",
        "#[?] V\n",
        "# V_y_int = np.sum(electron_energy)*np.sum(V_opening_recip) - np.sum(sqrt_E)np.sum(sqrt_E*V_opening_recip))/delta\n",
        "# V_slope = (16*np.sum(sqrt_E*V_opening_recip)-np.sum(sqrt_E)*np.sum(V_opening_recip))/delta\n",
        "#[?] D\n",
        "# D_y_int = np.sum(electron_energy)*np.sum(D_opening_recip) - np.sum(sqrt_E)np.sum(sqrt_E*D_opening_recip))/delta\n",
        "# D_slope = (16*np.sum(sqrt_E*D_opening_recip)-np.sum(sqrt_E)*np.sum(D_opening_recip))/delta\n",
        "\n",
        "\n",
        "## Turns out there's a function in numpy that can do this for me... ###\n",
        "A1 = np.vstack([sqrt_E, np.ones(len(sqrt_E))]).T\n",
        "m1, c1 = np.linalg.lstsq(A1, H_opening_recip, rcond=None)[0]\n",
        "print('Horizontal fit Slope and intercept:', m1, c1)\n",
        "\n",
        "A2 = np.vstack([sqrt_E, np.ones(len(sqrt_E))]).T\n",
        "m2, c2 = np.linalg.lstsq(A2, V_opening_recip, rcond=None)[0]\n",
        "print('Vertical fit Slope and intercept:  ', m2, c2)\n",
        "\n",
        "A3 = np.vstack([sqrt_E, np.ones(len(sqrt_E))]).T\n",
        "m3, c3 = np.linalg.lstsq(A3, D_opening_recip, rcond=None)[0]\n",
        "print('Diagonal fit Slope and intercept:  ', m3, c3)\n"
      ],
      "execution_count": 25,
      "outputs": [
        {
          "output_type": "stream",
          "text": [
            "Horizontal fit Slope and intercept: 0.8146619672009915 0.10644788675304392\n",
            "Vertical fit Slope and intercept:   0.8135237313365363 0.18554903579603252\n",
            "Diagonal fit Slope and intercept:   0.8231972476660858 0.07611820008056891\n"
          ],
          "name": "stdout"
        }
      ]
    },
    {
      "metadata": {
        "id": "WzZEhy0MfX2p",
        "colab_type": "code",
        "colab": {
          "base_uri": "https://localhost:8080/",
          "height": 68
        },
        "outputId": "86b85922-7dc6-429a-d0cb-fe73abe907b9"
      },
      "cell_type": "code",
      "source": [
        "###uncertainty in line fit\n",
        "delta = 16*np.sum(electron_energy) - np.square(np.sum(sqrt_E))\n",
        "#[?] Horizontal\n",
        "H_fit_error = np.sqrt((1/16)*np.sum(np.square(H_opening_recip - c1 - m1*sqrt_E)))\n",
        "m1_error = H_fit_error*np.sqrt(16/delta)\n",
        "c1_error = H_fit_error*np.sqrt(np.sum(electron_energy)/delta)\n",
        "#[?] V\n",
        "V_fit_error = np.sqrt((1/16)*np.sum(np.square(V_opening_recip - c2 - m2*sqrt_E)))\n",
        "m2_error = V_fit_error*np.sqrt(16/delta)\n",
        "c2_error = V_fit_error*np.sqrt(np.sum(electron_energy)/delta)\n",
        "#[?] D\n",
        "D_fit_error = np.sqrt((1/16)*np.sum(np.square(D_opening_recip - c3 - m3*sqrt_E)))\n",
        "m3_error = D_fit_error*np.sqrt(16/delta)\n",
        "c3_error = D_fit_error*np.sqrt(np.sum(electron_energy)/delta)\n",
        "\n",
        "print('Uncertainty in H calculated opening:', H_fit_error, '   Uncertainty in H fit slope:', m1_error, ' Intercept:', c1_error)\n",
        "print('Uncertainty in V calculated opening:', V_fit_error, '    Uncertainty in V fit slope:', m1_error, ' Intercept:', c1_error)\n",
        "print('Uncertainty in D calculated opening:', D_fit_error, '    Uncertainty in D fit slope:', m1_error, ' Intercept:', c1_error)\n"
      ],
      "execution_count": 35,
      "outputs": [
        {
          "output_type": "stream",
          "text": [
            "Uncertainty in H calculated opening: 0.053874216437033315    Uncertainty in H fit slope: 0.010765974663537157  Intercept: 0.10099379446342886\n",
            "Uncertainty in V calculated opening: 0.05001335918926997     Uncertainty in V fit slope: 0.010765974663537157  Intercept: 0.10099379446342886\n",
            "Uncertainty in D calculated opening: 0.07293351977844696     Uncertainty in D fit slope: 0.010765974663537157  Intercept: 0.10099379446342886\n"
          ],
          "name": "stdout"
        }
      ]
    },
    {
      "metadata": {
        "id": "buDYdzwtWSc_",
        "colab_type": "code",
        "colab": {
          "base_uri": "https://localhost:8080/",
          "height": 401
        },
        "outputId": "69fefa1a-bfcd-4501-fa31-8eb3bc1b45bc"
      },
      "cell_type": "code",
      "source": [
        "### Plotting ###\n",
        "# want a figure with 3 individual scatter plots\n",
        "\n",
        "# top (H)\n",
        "plt.subplot(3,2,1)\n",
        "plt.scatter(sqrt_E, H_opening_recip)\n",
        "plt.title('Opening Width (H)')\n",
        "# plt.ylabel('Opening Width [A^-1]')\n",
        "# plt.xlabel('Square root of Electron Energy [$\\sqrt{eV}$]')\n",
        "\n",
        "# middle (V)\n",
        "plt.subplot(3,2,3)\n",
        "plt.scatter(sqrt_E, V_opening_recip)\n",
        "plt.title('Opening Width (V)')\n",
        "plt.ylabel('Opening Width [A^-1]')\n",
        "# plt.xlabel('Square root of Electron Energy [$\\sqrt{eV}$]')\n",
        "\n",
        "# bottom (D)\n",
        "plt.subplot(3,2,5)\n",
        "plt.scatter(sqrt_E, D_opening_recip)\n",
        "plt.title('Opening Width (D)')\n",
        "# plt.ylabel('Opening Width [A^-1]')\n",
        "plt.xlabel('Square root of Electron Energy [$\\sqrt{eV}$]')\n",
        "\n",
        "\n",
        "plt.tight_layout()"
      ],
      "execution_count": 22,
      "outputs": [
        {
          "output_type": "display_data",
          "data": {
            "image/png": "[encoded data removed]",
            "text/plain": [
              "<matplotlib.figure.Figure at 0x7fc61569d748>"
            ]
          },
          "metadata": {
            "tags": []
          }
        }
      ]
    },
    {
      "metadata": {
        "id": "_594FKYoGkre",
        "colab_type": "code",
        "colab": {
          "base_uri": "https://localhost:8080/",
          "height": 348
        },
        "outputId": "3510ace4-a718-42e9-a4ae-edf2d4bf6191"
      },
      "cell_type": "code",
      "source": [
        "fig = plt.figure()\n",
        "ax1 = fig.add_subplot(111)\n",
        "\n",
        "ax1.scatter(sqrt_E, H_opening_recip, c='b', label='Horizontal')\n",
        "ax1.scatter(sqrt_E, V_opening_recip, c='g', label='Vertical')\n",
        "ax1.scatter(sqrt_E, D_opening_recip, c='r', label='Diagonal')\n",
        "ax1.plot(sqrt_E, m1*sqrt_E + c1, c='c', label='H Fit')\n",
        "ax1.plot(sqrt_E, m2*sqrt_E + c2, c='m', label='V Fit')\n",
        "ax1.plot(sqrt_E, m3*sqrt_E + c3, c='y', label='D Fit')\n",
        "plt.legend(loc='upper left')\n",
        "plt.show()"
      ],
      "execution_count": 24,
      "outputs": [
        {
          "output_type": "display_data",
          "data": {
            "image/png": "[encoded data removed]",
            "text/plain": [
              "<matplotlib.figure.Figure at 0x7fc613a4ada0>"
            ]
          },
          "metadata": {
            "tags": []
          }
        }
      ]
    },
    {
      "metadata": {
        "id": "8tlh3lJXcGDg",
        "colab_type": "code",
        "colab": {}
      },
      "cell_type": "code",
      "source": [
        ""
      ],
      "execution_count": 0,
      "outputs": []
    }
  ]
}