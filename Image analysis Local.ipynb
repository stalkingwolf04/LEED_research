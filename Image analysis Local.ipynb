{
 "cells": [
  {
   "cell_type": "markdown",
   "metadata": {},
   "source": [
    "# G16 data"
   ]
  },
  {
   "cell_type": "code",
   "execution_count": 10,
   "metadata": {},
   "outputs": [],
   "source": [
    "import matplotlib.pyplot as plt\n",
    "import numpy as np\n",
    "import pandas as pd\n",
    "\n",
    "### Read in data from specified .csv file\n",
    "df = pd.read_csv('New camera image data - Sheet1.csv')\n",
    "data = df.values\n",
    "\n",
    "## Comment in/out next line to see formatting of data ###\n",
    "# print(df.loc[0][:])"
   ]
  },
  {
   "cell_type": "code",
   "execution_count": 11,
   "metadata": {},
   "outputs": [],
   "source": [
    "### Constants ###\n",
    "N = 16   # number of images in Powershot G16 Data\n",
    "H_V_lattice = 3.493569812  #Reciprocal distance between Horizontal and Vertical Cu100 lattice points\n",
    "D_lattice = 2.470326905    #Reciprocal distance between Diagonal Cu100 lattice points"
   ]
  },
  {
   "cell_type": "code",
   "execution_count": 12,
   "metadata": {},
   "outputs": [],
   "source": [
    "### Data Values ###\n",
    "electron_energy = data[:,1]\n",
    "sqrt_E = np.sqrt(electron_energy)   #Used as x-values for line fit\n",
    "\n",
    "opening_AU = data[:,2]     #Measured screen diameter in Arbitrary Units\n",
    "opening_AU_m = np.mean(opening_AU)     #Average of screen diameter in AU\n",
    "error_opening_AU = np.std(opening_AU)/opening_AU    #Fractional error in opening\n",
    "\n",
    "#Separate data into separate sections\n",
    "H_data = data[:,5:13]\n",
    "# print(H_data[0,:])\n",
    "V_data = data[:,16:24]\n",
    "# print(V_data[:,3])\n",
    "D_data = data[:,27:]\n",
    "# print(D_data[0,:])\n",
    "\n",
    "##need to fix first couple data points of diagonal data (divide spacing by 2 for first 4 measurements)\n",
    "##due to a difference in measuring"
   ]
  },
  {
   "cell_type": "code",
   "execution_count": 13,
   "metadata": {},
   "outputs": [],
   "source": [
    "### Fix first four data points\n",
    "D_data[:5,1] = .5*D_data[:5,1]\n",
    "D_data[:5,5] = .5*D_data[:5,5]\n",
    "# print(D_data[:6,5]-D_data[:6,1])"
   ]
  },
  {
   "cell_type": "code",
   "execution_count": 14,
   "metadata": {},
   "outputs": [],
   "source": [
    "### Calculated Values ###\n",
    "#Screen opening and opening error\n",
    "def recip_openingANDerror(lattice, data, Opening_A, Error_opening_AU):\n",
    "    spacing_AU = data[:,5] - data[:,1]         #Calculate distance between points (Right_x_position - Left_x_position)\n",
    "    opening = lattice*(Opening_A/spacing_AU)   #Calculate opening size in reciprocal space (lattice spacing*(Opening[AU]/Lattice spacing[AU]))\n",
    "    d_left = .5*(data[:,3] - data[:,2])        #absolute error in left point .5*(width of peak at half max)\n",
    "    d_right = .5*(data[:,7] - data[:,6])       #absolute error in right point .5*(width of peak at half max)\n",
    "    d_spacing = np.sqrt(np.square(d_left) + np.square(d_right))   #absolute error in spacing (addition of absolute error in quadrature)\n",
    "    frac_error = np.sqrt(np.square(d_spacing/spacing_AU) + np.square(Error_opening_AU/Opening_A))   #fractional error in spacing\n",
    "    error_recip = frac_error*opening           #fractional error in opening calculation\n",
    "    return opening, error_recip\n",
    "\n",
    "#least squares fit with error in slope and intercept\n",
    "##details of calculation in next cell\n",
    "def w_lst_sq(opening_recip, error_recip, e_energy, sqrt_e):\n",
    "    weights = 1/np.square(error_recip)         #weights for line fit from error in opening\n",
    "    Delta = np.sum(weights)*np.sum(weights*e_energy)-np.square(np.sum(weights*sqrt_e))\n",
    "    intercept = ((np.sum(weights*e_energy)*np.sum(weights*opening_recip))\n",
    "                 -(np.sum(weights*sqrt_e)*np.sum(weights*sqrt_e*opening_recip)))/Delta\n",
    "    slope = (np.sum(weights)*np.sum(weights*sqrt_e*opening_recip)-np.sum(weights*sqrt_e)*np.sum(weights*opening_recip))/Delta\n",
    "    intercept_error = np.sqrt(np.sum(weights*e_energy)/Delta)\n",
    "    slope_error = np.sqrt(np.sum(weights)/Delta)\n",
    "    return slope, slope_error, intercept, intercept_error"
   ]
  },
  {
   "cell_type": "markdown",
   "metadata": {},
   "source": [
    "$$ B = \\frac{\\sum{w  E} \\sum{w  o} - \\sum w\\sqrt{E} \\sum w o \\sqrt{E} }{\\Delta} $$\n",
    "\n",
    "$$ A = \\frac{\\sum{w} \\sum{w o \\sqrt{E}}-\\sum{w\\sqrt e} \\sum{w o}}{\\Delta} $$\n",
    "\n",
    "Where \n",
    "$$ \\Delta = \\sum{w} \\sum{w E}- (\\sum w\\sqrt{e})^2 $$\n",
    "And \n",
    "$$ Y = Ax + B $$"
   ]
  },
  {
   "cell_type": "code",
   "execution_count": 17,
   "metadata": {},
   "outputs": [
    {
     "name": "stdout",
     "output_type": "stream",
     "text": [
      "H Slope + error 0.7702071387066763 0.03752820129150288 Intercept + error: 0.5130240351966252 0.3349668602467557\n",
      "V Slope + error 0.7635032078814743 0.049907469612732305 Intercept + error: 0.6476329112772109 0.4537175399649789\n",
      "D Slope + error 0.7776123059603269 0.05714997235386788 Intercept + error: 0.498209224988452 0.5071268144172828\n"
     ]
    }
   ],
   "source": [
    "H_recip_opening, H_opening_error = recip_openingANDerror(H_V_lattice, H_data, opening_AU, error_opening_AU)\n",
    "H1_slope, H1_slope_error, H1_intercept, H1_intercept_error = w_lst_sq(H_recip_opening, H_opening_error, electron_energy, sqrt_E)\n",
    "print('H Slope + error', H1_slope, H1_slope_error, 'Intercept + error:', H1_intercept, H1_intercept_error)\n",
    "\n",
    "V_recip_opening, V_opening_error = recip_openingANDerror(H_V_lattice, V_data, opening_AU, error_opening_AU)\n",
    "V1_slope, V1_slope_error, V1_intercept, V1_intercept_error = w_lst_sq(V_recip_opening, V_opening_error, electron_energy, sqrt_E)\n",
    "print('V Slope + error', V1_slope, V1_slope_error, 'Intercept + error:', V1_intercept, V1_intercept_error)\n",
    "\n",
    "D_recip_opening, D_opening_error = recip_openingANDerror(D_lattice, D_data, opening_AU, error_opening_AU)\n",
    "D1_slope, D1_slope_error, D1_intercept, D1_intercept_error = w_lst_sq(D_recip_opening, D_opening_error, electron_energy, sqrt_E)\n",
    "print('D Slope + error', D1_slope, D1_slope_error, 'Intercept + error:', D1_intercept, D1_intercept_error)"
   ]
  },
  {
   "cell_type": "markdown",
   "metadata": {},
   "source": [
    "# Old camera data"
   ]
  },
  {
   "cell_type": "code",
   "execution_count": 20,
   "metadata": {},
   "outputs": [],
   "source": [
    "#Read in data from old camera, same format as above\n",
    "df2 = pd.read_csv('Old Camera image data - Sheet1.csv')\n",
    "data2 = df2.values"
   ]
  },
  {
   "cell_type": "code",
   "execution_count": 21,
   "metadata": {},
   "outputs": [],
   "source": [
    "### Data Values ###\n",
    "#all values same format as above\n",
    "N2 = 9\n",
    "electron_energy2 = data2[:,1]\n",
    "sqrt_E2 = np.sqrt(electron_energy2)\n",
    "\n",
    "opening_AU2 = data2[:,2]\n",
    "opening_AU_m2 = np.mean(opening_AU2)\n",
    "error_opening_AU2 = np.std(opening_AU2)/opening_AU2\n",
    "\n",
    "\n",
    "H_data2 = data2[:,5:13]\n",
    "# print(H_data[0,:])\n",
    "V_data2 = data2[:,16:24]\n",
    "# print(V_data[:,3])\n",
    "D_data2 = data2[:,27:]\n",
    "# print(D_data[0,:])"
   ]
  },
  {
   "cell_type": "code",
   "execution_count": 25,
   "metadata": {},
   "outputs": [
    {
     "name": "stdout",
     "output_type": "stream",
     "text": [
      "H2 Slope + error 0.7324657707749295 0.10906720312808338 Intercept + error: 0.49131342902567215 1.019045878458775\n",
      "V2 Slope + error 0.7436281659570254 0.1157452499696649 Intercept + error: 0.44442158004113647 1.0859478181653865\n"
     ]
    }
   ],
   "source": [
    "H_recip_opening2, H_opening_error2 = recip_openingANDerror(H_V_lattice, H_data2, opening_AU2, error_opening_AU2)\n",
    "H2_slope, H2_slope_error, H2_intercept, H2_intercept_error = w_lst_sq(H_recip_opening2, H_opening_error2, electron_energy2, sqrt_E2)\n",
    "print('H2 Slope + error', H2_slope, H2_slope_error, 'Intercept + error:', H2_intercept, H2_intercept_error)\n",
    "\n",
    "V_recip_opening2, V_opening_error2 = recip_openingANDerror(H_V_lattice, V_data2, opening_AU2, error_opening_AU2)\n",
    "V2_slope, V2_slope_error, V2_intercept, V2_intercept_error = w_lst_sq(V_recip_opening2, V_opening_error2, electron_energy2, sqrt_E2)\n",
    "print('V2 Slope + error', V2_slope, V2_slope_error, 'Intercept + error:', V2_intercept, V2_intercept_error)\n",
    "\n",
    "#Diagonal seems to be not working, need to diagnose\n",
    "D_recip_opening2, D_opening_error2 = recip_openingANDerror(D_lattice, D_data2, opening_AU2, error_opening_AU2)\n",
    "D2_slope, D2_slope_error, D2_intercept, D2_intercept_error = w_lst_sq(D_recip_opening2, D_opening_error2, electron_energy2, sqrt_E2)\n",
    "# print('D2 Slope + error', D2_slope, D2_slope_error, 'Intercept + error:', D2_intercept, D2_intercept_error)\n"
   ]
  },
  {
   "cell_type": "markdown",
   "metadata": {},
   "source": [
    "## Error calculations"
   ]
  },
  {
   "cell_type": "code",
   "execution_count": 28,
   "metadata": {},
   "outputs": [],
   "source": [
    "#Calculate spacing between measured points in Arbitrary Units and fractional error\n",
    "def spacing_AU(data):  \n",
    "    meas_spacing = data[:,5] - data[:,1]\n",
    "    spacing_frac_error = np.sqrt(np.square(.5*(data[:,3] - data[:,2])) + np.square(.5*(data[:,6] - data[:,5])))/meas_spacing\n",
    "    return meas_spacing, spacing_frac_error\n",
    "\n",
    "#Fractional error in line fit parameters A and B\n",
    "def frac_axb(A, d_A, B, d_B, sqrt_e):\n",
    "    frac = np.sqrt(np.square(sqrt_e*d_A) + np.square(d_B))/(A*sqrt_e + B)\n",
    "    return frac\n",
    "\n",
    "#Calculate fractional error in opening calculation from line fit\n",
    "def frac_error(frac_ab, frac_open, frac_space): \n",
    "    tot_frac_error = np.sqrt(np.square(frac_ab) + np.square(frac_open) + np.square(frac_space))\n",
    "    return tot_frac_error"
   ]
  },
  {
   "cell_type": "markdown",
   "metadata": {},
   "source": [
    "## Spacing calculations"
   ]
  },
  {
   "cell_type": "code",
   "execution_count": 33,
   "metadata": {},
   "outputs": [],
   "source": [
    "#Calculate reciprocal spacing between measured points using fit line\n",
    "def spacing_calc(energy, meas_opening, data):\n",
    "    meas_spacing = data[:,5] - data[:,1]\n",
    "    ratio = meas_spacing/meas_opening\n",
    "    direction = str(input('Which direction? H/V/D (case sensitive)'))\n",
    "    if direction == 'H':\n",
    "        opening_func = 0.7707384404775303*np.sqrt(energy) + 0.507881158392666\n",
    "    elif direction == 'V':\n",
    "        opening_func = 0.7635937144289188*np.sqrt(energy) + 0.6470749251271875\n",
    "    else:\n",
    "        opening_func = 0.7781788677967666*np.sqrt(energy) + 0.4939931209205846\n",
    "    \n",
    "    spacing = ratio*opening_func\n",
    "    return spacing"
   ]
  },
  {
   "cell_type": "code",
   "execution_count": 31,
   "metadata": {},
   "outputs": [
    {
     "name": "stdout",
     "output_type": "stream",
     "text": [
      "Which direction? H/V/D (case sensitive)H\n",
      "Which direction? H/V/D (case sensitive)H\n"
     ]
    }
   ],
   "source": [
    "H_spacing = spacing_calc(electron_energy, opening_AU, H_data)\n",
    "H2_spacing = spacing_calc(electron_energy2, opening_AU2, H_data2)"
   ]
  },
  {
   "cell_type": "code",
   "execution_count": 32,
   "metadata": {},
   "outputs": [
    {
     "name": "stdout",
     "output_type": "stream",
     "text": [
      "Which direction? H/V/D (case sensitive)V\n",
      "Which direction? H/V/D (case sensitive)V\n"
     ]
    }
   ],
   "source": [
    "V_spacing = spacing_calc(electron_energy, opening_AU, V_data)\n",
    "V2_spacing = spacing_calc(electron_energy2, opening_AU2, V_data2)"
   ]
  },
  {
   "cell_type": "code",
   "execution_count": 35,
   "metadata": {},
   "outputs": [],
   "source": [
    "H_frac_axb = frac_axb(H1_slope, H1_slope_error, H1_intercept, H1_intercept_error, sqrt_E)\n",
    "H_spacing_meas, H_frac_spacing = spacing_AU(H_data)\n",
    "H_frac_error = frac_error(H_frac_axb, error_opening_AU, H_frac_spacing)\n",
    "H_error = H_frac_error*H_spacing"
   ]
  },
  {
   "cell_type": "code",
   "execution_count": 36,
   "metadata": {},
   "outputs": [],
   "source": [
    "V_frac_axb = frac_axb(V1_slope, V1_slope_error, V1_intercept, V1_intercept_error, sqrt_E)\n",
    "V_spacing_meas, V_frac_spacing = spacing_AU(V_data)\n",
    "V_frac_error = frac_error(V_frac_axb, error_opening_AU, V_frac_spacing)\n",
    "V_error = V_frac_error*V_spacing"
   ]
  },
  {
   "cell_type": "code",
   "execution_count": 37,
   "metadata": {},
   "outputs": [],
   "source": [
    "H2_frac_axb = frac_axb(H2_slope, H2_slope_error, H2_intercept, H2_intercept_error, sqrt_E2)\n",
    "H2_spacing_meas, H2_frac_spacing = spacing_AU(H_data2)\n",
    "H2_frac_error = frac_error(H2_frac_axb, error_opening_AU2, H2_frac_spacing)\n",
    "H2_error = H2_frac_error*H2_spacing\n",
    "\n",
    "V2_frac_axb = frac_axb(V2_slope, V2_slope_error, V2_intercept, V2_intercept_error, sqrt_E2)\n",
    "V2_spacing_meas, V2_frac_spacing = spacing_AU(V_data2)\n",
    "V2_frac_error = frac_error(V2_frac_axb, error_opening_AU2, V2_frac_spacing)\n",
    "V2_error = V2_frac_error*V2_spacing"
   ]
  },
  {
   "cell_type": "markdown",
   "metadata": {},
   "source": [
    "### Compare Fit1 and Fit2"
   ]
  },
  {
   "cell_type": "code",
   "execution_count": null,
   "metadata": {},
   "outputs": [],
   "source": [
    "print('slope difference', H1_slope - H2_slope, 'intercept difference', H1_intercept - H2_intercept)\n",
    "print('slope difference', V1_slope - V2_slope, 'intercept difference', V1_intercept - V2_intercept)"
   ]
  },
  {
   "cell_type": "code",
   "execution_count": 41,
   "metadata": {},
   "outputs": [
    {
     "data": {
      "text/plain": [
       "<matplotlib.legend.Legend at 0x1f244b3cc88>"
      ]
     },
     "execution_count": 41,
     "metadata": {},
     "output_type": "execute_result"
    },
    {
     "data": {
      "image/png": "[encoded data removed]",
      "text/plain": [
       "<Figure size 640x640 with 1 Axes>"
      ]
     },
     "metadata": {},
     "output_type": "display_data"
    }
   ],
   "source": [
    "#plot lines on top of each other with shaded uncertainties\n",
    "\n",
    "x1 = sqrt_E\n",
    "x2 = sqrt_E2\n",
    "y1 = H1_slope*x1 + H1_intercept\n",
    "y2 = H2_slope*x2 + H2_intercept\n",
    "\n",
    "plt.figure(num=None, figsize=(8, 8), dpi=80, facecolor='w', edgecolor='k')\n",
    "\n",
    "plt.plot(x1, y1, 'k', color='#CC4F1B', label = 'fit1')\n",
    "plt.fill_between(x1, y1-H_error, y1+H_error, alpha=0.5, edgecolor='#CC4F1B', facecolor='#FF9848')\n",
    "\n",
    "plt.plot(x2, y2, 'k', color='#1B2ACC', label = 'fit2')\n",
    "plt.fill_between(x2, y2-H2_error, y2+H2_error, alpha=0.5, edgecolor='#1B2ACC', facecolor='#089FFF')\n",
    "plt.legend(loc = 2)\n",
    "\n",
    "## Add axes labels and plot title\n",
    "## add scatter plot of data"
   ]
  },
  {
   "cell_type": "code",
   "execution_count": null,
   "metadata": {
    "collapsed": true
   },
   "outputs": [],
   "source": [
    "## need to look at why fit2 uncertainties are so much larger"
   ]
  }
 ],
 "metadata": {
  "kernelspec": {
   "display_name": "Python 3",
   "language": "python",
   "name": "python3"
  },
  "language_info": {
   "codemirror_mode": {
    "name": "ipython",
    "version": 3
   },
   "file_extension": ".py",
   "mimetype": "text/x-python",
   "name": "python",
   "nbconvert_exporter": "python",
   "pygments_lexer": "ipython3",
   "version": "3.6.5"
  }
 },
 "nbformat": 4,
 "nbformat_minor": 2
}
