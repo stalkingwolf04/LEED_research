{
 "cells": [
  {
   "cell_type": "markdown",
   "metadata": {},
   "source": [
    "# G16 data"
   ]
  },
  {
   "cell_type": "code",
   "execution_count": 1,
   "metadata": {},
   "outputs": [],
   "source": [
    "import matplotlib.pyplot as plt\n",
    "import numpy as np\n",
    "import pandas as pd\n",
    "\n",
    "### Read in data from specified .csv file\n",
    "df = pd.read_csv('New camera image data - Sheet1.csv')\n",
    "data = df.values\n",
    "\n",
    "## Comment in/out next line to see formatting of data ###\n",
    "# print(df.loc[0][:])"
   ]
  },
  {
   "cell_type": "code",
   "execution_count": 2,
   "metadata": {},
   "outputs": [],
   "source": [
    "### Constants ###\n",
    "N = 16   # number of images in Powershot G16 Data\n",
    "H_V_lattice = 3.493569812  #Reciprocal distance between Horizontal and Vertical Cu100 lattice points\n",
    "D_lattice = 2.470326905    #Reciprocal distance between Diagonal Cu100 lattice points"
   ]
  },
  {
   "cell_type": "code",
   "execution_count": 35,
   "metadata": {},
   "outputs": [],
   "source": [
    "### Data Values ###\n",
    "electron_energy = data[:,1]\n",
    "sqrt_E = np.sqrt(electron_energy)   #Used as x-values for line fit\n",
    "\n",
    "opening_AU = data[:,2]     #Measured screen diameter in Arbitrary Units\n",
    "opening_AU_m = np.mean(opening_AU)     #Average of screen diameter in AU\n",
    "error_opening_AU = np.std(opening_AU)/opening_AU    #Fractional error in opening\n",
    "\n",
    "#Separate data into separate sections\n",
    "H_data = data[:,6:13]\n",
    "# print(H_data[0,:])\n",
    "V_data = data[:,17:24]\n",
    "# print(V_data[:,3])\n",
    "D_data = data[:,28:]\n",
    "# print(D_data[0,:])\n",
    "\n",
    "##need to fix first couple data points of diagonal data (divide spacing by 2 for first 4 measurements)\n",
    "##due to a difference in measuring"
   ]
  },
  {
   "cell_type": "code",
   "execution_count": 4,
   "metadata": {},
   "outputs": [],
   "source": [
    "### Fix first four data points\n",
    "D_data[:5,0] = .5*D_data[:5,0]\n",
    "D_data[:5,4] = .5*D_data[:5,4]\n",
    "# print(D_data[:6,5]-D_data[:6,1])"
   ]
  },
  {
   "cell_type": "code",
   "execution_count": 5,
   "metadata": {},
   "outputs": [],
   "source": [
    "### Calculated Values ###\n",
    "#Screen opening and opening error\n",
    "def recip_openingANDerror(lattice, data, Opening_A, Error_opening_AU):\n",
    "    spacing_AU = data[:,4] - data[:,0]         #Calculate distance between points (Right_x_position - Left_x_position)\n",
    "    opening = lattice*(Opening_A/spacing_AU)   #Calculate opening size in reciprocal space (lattice spacing*(Opening[AU]/Lattice spacing[AU]))\n",
    "    d_left = .5*(data[:,2] - data[:,1])        #absolute error in left point .5*(width of peak at half max)\n",
    "    d_right = .5*(data[:,6] - data[:,5])       #absolute error in right point .5*(width of peak at half max)\n",
    "    d_spacing = np.sqrt(np.square(d_left) + np.square(d_right))   #absolute error in spacing (addition of absolute error in quadrature)\n",
    "    frac_error = np.sqrt(np.square(d_spacing/spacing_AU) + np.square(Error_opening_AU/Opening_A))   #fractional error in spacing\n",
    "    error_recip = frac_error*opening           #fractional error in opening calculation\n",
    "    return opening, error_recip\n",
    "\n",
    "#least squares fit with error in slope and intercept\n",
    "##details of calculation in next cell\n",
    "def w_lst_sq(opening_recip, error_recip, e_energy, sqrt_e):\n",
    "    weights = 1/np.square(error_recip)         #weights for line fit from error in opening\n",
    "    Delta = np.sum(weights)*np.sum(weights*e_energy)-np.square(np.sum(weights*sqrt_e))\n",
    "    intercept = ((np.sum(weights*e_energy)*np.sum(weights*opening_recip))\n",
    "                 -(np.sum(weights*sqrt_e)*np.sum(weights*sqrt_e*opening_recip)))/Delta\n",
    "    slope = (np.sum(weights)*np.sum(weights*sqrt_e*opening_recip)-np.sum(weights*sqrt_e)*np.sum(weights*opening_recip))/Delta\n",
    "    intercept_error = np.sqrt(np.sum(weights*e_energy)/Delta)\n",
    "    slope_error = np.sqrt(np.sum(weights)/Delta)\n",
    "    return slope, slope_error, intercept, intercept_error"
   ]
  },
  {
   "cell_type": "markdown",
   "metadata": {},
   "source": [
    "$$ B = \\frac{\\sum{w  E} \\sum{w  o} - \\sum w\\sqrt{E} \\sum w o \\sqrt{E} }{\\Delta} $$\n",
    "\n",
    "$$ A = \\frac{\\sum{w} \\sum{w o \\sqrt{E}}-\\sum{w\\sqrt e} \\sum{w o}}{\\Delta} $$\n",
    "\n",
    "Where \n",
    "$$ \\Delta = \\sum{w} \\sum{w E}- (\\sum w\\sqrt{e})^2 $$\n",
    "And \n",
    "$$ Y = Ax + B $$"
   ]
  },
  {
   "cell_type": "code",
   "execution_count": 6,
   "metadata": {},
   "outputs": [
    {
     "name": "stdout",
     "output_type": "stream",
     "text": [
      "H Slope + error 0.7702071387066763 0.03752820129150288 Intercept + error: 0.5130240351966252 0.3349668602467557\n",
      "V Slope + error 0.7650675038207839 0.04814540132896146 Intercept + error: 0.6314761751409919 0.43293008006211614\n",
      "D Slope + error 0.7776123059603269 0.05714997235386788 Intercept + error: 0.498209224988452 0.5071268144172828\n"
     ]
    }
   ],
   "source": [
    "H_recip_opening, H_opening_error = recip_openingANDerror(H_V_lattice, H_data, opening_AU, error_opening_AU)\n",
    "H1_slope, H1_slope_error, H1_intercept, H1_intercept_error = w_lst_sq(H_recip_opening, H_opening_error, electron_energy, sqrt_E)\n",
    "print('H Slope + error', H1_slope, H1_slope_error, 'Intercept + error:', H1_intercept, H1_intercept_error)\n",
    "\n",
    "V_recip_opening, V_opening_error = recip_openingANDerror(H_V_lattice, V_data, opening_AU, error_opening_AU)\n",
    "V1_slope, V1_slope_error, V1_intercept, V1_intercept_error = w_lst_sq(V_recip_opening, V_opening_error, electron_energy, sqrt_E)\n",
    "print('V Slope + error', V1_slope, V1_slope_error, 'Intercept + error:', V1_intercept, V1_intercept_error)\n",
    "\n",
    "D_recip_opening, D_opening_error = recip_openingANDerror(D_lattice, D_data, opening_AU, error_opening_AU)\n",
    "D1_slope, D1_slope_error, D1_intercept, D1_intercept_error = w_lst_sq(D_recip_opening, D_opening_error, electron_energy, sqrt_E)\n",
    "print('D Slope + error', D1_slope, D1_slope_error, 'Intercept + error:', D1_intercept, D1_intercept_error)"
   ]
  },
  {
   "cell_type": "markdown",
   "metadata": {},
   "source": [
    "# Old camera data"
   ]
  },
  {
   "cell_type": "code",
   "execution_count": 7,
   "metadata": {},
   "outputs": [],
   "source": [
    "#Read in data from old camera, same format as above\n",
    "df2 = pd.read_csv('Old Camera image data - Sheet1.csv')\n",
    "data2 = df2.values\n"
   ]
  },
  {
   "cell_type": "code",
   "execution_count": 63,
   "metadata": {},
   "outputs": [],
   "source": [
    "### Data Values ###\n",
    "#all values same format as above\n",
    "N2 = 9\n",
    "electron_energy2 = data2[:,1]\n",
    "sqrt_E2 = np.sqrt(electron_energy2)\n",
    "\n",
    "opening_AU2 = data2[:,2]\n",
    "opening_AU_m2 = np.mean(opening_AU2)\n",
    "error_opening_AU2 = np.std(opening_AU2)/opening_AU2\n",
    "\n",
    "\n",
    "H_data2 = data2[:,6:13]\n",
    "# print(H_data[0,:])\n",
    "V_data2 = data2[:,17:24]\n",
    "# print(V_data[:,3])\n",
    "D_data2 = data2[:,28:]\n",
    "# print(D_data[0,:])"
   ]
  },
  {
   "cell_type": "code",
   "execution_count": 66,
   "metadata": {},
   "outputs": [
    {
     "name": "stdout",
     "output_type": "stream",
     "text": [
      "D_Height_1            46.0320\n",
      "D_Xpeak_1              0.0505\n",
      "D_Half max left_1      0.0454\n",
      "D_Half max right_1     0.0608\n",
      "D_Height_2            33.9100\n",
      "D_Xpeak_2              0.6620\n",
      "D_Half max left_2      0.6520\n",
      "D_Half max right_2     0.6720\n",
      "Name: 4, dtype: float64 [0.006325  0.0079625 0.0059875 0.00365   0.0063125 0.0262    0.0152\n",
      " 0.034     0.0393   ]\n"
     ]
    }
   ],
   "source": [
    "print(df2.loc[4][27:], data2[:,28])"
   ]
  },
  {
   "cell_type": "code",
   "execution_count": 44,
   "metadata": {},
   "outputs": [],
   "source": [
    "### Fix first four data points\n",
    "# D_data2[:6,0] = .5*D_data2[:6,0]\n",
    "# D_data2[:6,4] = .5*D_data2[:6,4]\n",
    "# print(D_data[:6,5]-D_data[:6,1])"
   ]
  },
  {
   "cell_type": "markdown",
   "metadata": {},
   "source": [
    "#### Line fit based on old camera data (ignore)"
   ]
  },
  {
   "cell_type": "code",
   "execution_count": 45,
   "metadata": {},
   "outputs": [],
   "source": [
    "# H_recip_opening2, H_opening_error2 = recip_openingANDerror(H_V_lattice, H_data2, opening_AU2, error_opening_AU2)\n",
    "# H2_slope, H2_slope_error, H2_intercept, H2_intercept_error = w_lst_sq(H_recip_opening2, H_opening_error2, electron_energy2, sqrt_E2)\n",
    "# print('H2 Slope + error', H2_slope, H2_slope_error, 'Intercept + error:', H2_intercept, H2_intercept_error)\n",
    "\n",
    "# V_recip_opening2, V_opening_error2 = recip_openingANDerror(H_V_lattice, V_data2, opening_AU2, error_opening_AU2)\n",
    "# V2_slope, V2_slope_error, V2_intercept, V2_intercept_error = w_lst_sq(V_recip_opening2, V_opening_error2, electron_energy2, sqrt_E2)\n",
    "# print('V2 Slope + error', V2_slope, V2_slope_error, 'Intercept + error:', V2_intercept, V2_intercept_error)\n",
    "\n",
    "# #Diagonal seems to be not working, need to diagnose\n",
    "# D_recip_opening2, D_opening_error2 = recip_openingANDerror(D_lattice, D_data2, opening_AU2, error_opening_AU2)\n",
    "# D2_slope, D2_slope_error, D2_intercept, D2_intercept_error = w_lst_sq(D_recip_opening2, D_opening_error2, electron_energy2, sqrt_E2)\n",
    "# # print('D2 Slope + error', D2_slope, D2_slope_error, 'Intercept + error:', D2_intercept, D2_intercept_error)\n"
   ]
  },
  {
   "cell_type": "markdown",
   "metadata": {},
   "source": [
    "## Error calculations"
   ]
  },
  {
   "cell_type": "code",
   "execution_count": 46,
   "metadata": {},
   "outputs": [],
   "source": [
    "#Calculate spacing between measured points in Arbitrary Units and fractional error\n",
    "def spacing_AU(data):  \n",
    "    meas_spacing = data[:,4] - data[:,0]\n",
    "    spacing_frac_error = np.sqrt(np.square(.5*(data[:,2] - data[:,1])) + np.square(.5*(data[:,6] - data[:,5])))/meas_spacing\n",
    "    return meas_spacing, spacing_frac_error\n",
    "\n",
    "#Fractional error in line fit parameters A and B\n",
    "def frac_axb(A, d_A, B, d_B, sqrt_e):\n",
    "    frac = np.sqrt(np.square(sqrt_e*d_A) + np.square(d_B))/(A*sqrt_e + B)\n",
    "    return frac\n",
    "\n",
    "#Calculate fractional error in opening calculation from line fit\n",
    "def frac_error(frac_ab, frac_open, frac_space): \n",
    "    tot_frac_error = np.sqrt(np.square(frac_ab) + np.square(frac_open) + np.square(frac_space))\n",
    "    return tot_frac_error"
   ]
  },
  {
   "cell_type": "markdown",
   "metadata": {},
   "source": [
    "## Spacing calculations"
   ]
  },
  {
   "cell_type": "code",
   "execution_count": 47,
   "metadata": {},
   "outputs": [],
   "source": [
    "#Calculate reciprocal spacing between measured points using fit line\n",
    "def spacing_calc(energy, meas_opening, data):\n",
    "    meas_spacing = data[:,4] - data[:,0]\n",
    "    ratio = meas_spacing/meas_opening\n",
    "    direction = str(input('Which direction? H/V/D (case sensitive)'))\n",
    "    if direction == 'H':\n",
    "        opening_func = 0.7707384404775303*np.sqrt(energy) + 0.507881158392666\n",
    "    elif direction == 'V':\n",
    "        opening_func = 0.7635937144289188*np.sqrt(energy) + 0.6470749251271875\n",
    "    else:\n",
    "        opening_func = 0.7781788677967666*np.sqrt(energy) + 0.4939931209205846\n",
    "    \n",
    "    spacing = ratio*opening_func\n",
    "    return spacing"
   ]
  },
  {
   "cell_type": "code",
   "execution_count": 48,
   "metadata": {},
   "outputs": [
    {
     "name": "stdout",
     "output_type": "stream",
     "text": [
      "Which direction? H/V/D (case sensitive)H\n",
      "Which direction? H/V/D (case sensitive)H\n"
     ]
    }
   ],
   "source": [
    "H_spacing = spacing_calc(electron_energy, opening_AU, H_data)\n",
    "H2_spacing = spacing_calc(electron_energy2, opening_AU2, H_data2)"
   ]
  },
  {
   "cell_type": "code",
   "execution_count": 49,
   "metadata": {},
   "outputs": [
    {
     "name": "stdout",
     "output_type": "stream",
     "text": [
      "Which direction? H/V/D (case sensitive)H\n",
      "Which direction? H/V/D (case sensitive)H\n"
     ]
    }
   ],
   "source": [
    "V_spacing = spacing_calc(electron_energy, opening_AU, V_data)\n",
    "V2_spacing = spacing_calc(electron_energy2, opening_AU2, V_data2)"
   ]
  },
  {
   "cell_type": "code",
   "execution_count": 50,
   "metadata": {},
   "outputs": [
    {
     "name": "stdout",
     "output_type": "stream",
     "text": [
      "Which direction? H/V/D (case sensitive)H\n",
      "Which direction? H/V/D (case sensitive)H\n"
     ]
    }
   ],
   "source": [
    "D_spacing = spacing_calc(electron_energy, opening_AU, D_data)\n",
    "D2_spacing = spacing_calc(electron_energy2, opening_AU2, D_data2)"
   ]
  },
  {
   "cell_type": "code",
   "execution_count": 51,
   "metadata": {},
   "outputs": [],
   "source": [
    "H_frac_axb = frac_axb(H1_slope, H1_slope_error, H1_intercept, H1_intercept_error, sqrt_E)\n",
    "H_spacing_meas, H_frac_spacing = spacing_AU(H_data)\n",
    "H_frac_error = frac_error(H_frac_axb, error_opening_AU, H_frac_spacing)\n",
    "H_error = H_frac_error*H_spacing\n",
    "\n",
    "V_frac_axb = frac_axb(H1_slope, H1_slope_error, H1_intercept, H1_intercept_error, sqrt_E)\n",
    "V_spacing_meas, V_frac_spacing = spacing_AU(V_data)\n",
    "V_frac_error = frac_error(V_frac_axb, error_opening_AU, V_frac_spacing)\n",
    "V_error = V_frac_error*V_spacing\n",
    "\n",
    "D_frac_axb = frac_axb(H1_slope, H1_slope_error, H1_intercept, H1_intercept_error, sqrt_E)\n",
    "D_spacing_meas, D_frac_spacing = spacing_AU(D_data)\n",
    "D_frac_error = frac_error(D_frac_axb, error_opening_AU, D_frac_spacing)\n",
    "D_error = D_frac_error*D_spacing"
   ]
  },
  {
   "cell_type": "code",
   "execution_count": 52,
   "metadata": {},
   "outputs": [],
   "source": [
    "H2_frac_axb = frac_axb(H1_slope, H1_slope_error, H1_intercept, H1_intercept_error, sqrt_E2)\n",
    "H2_spacing_meas, H2_frac_spacing = spacing_AU(H_data2)\n",
    "H2_frac_error = frac_error(H2_frac_axb, error_opening_AU2, H2_frac_spacing)\n",
    "H2_error = H2_frac_error*H2_spacing\n",
    "\n",
    "V2_frac_axb = frac_axb(H1_slope, H1_slope_error, H1_intercept, H1_intercept_error, sqrt_E2)\n",
    "V2_spacing_meas, V2_frac_spacing = spacing_AU(V_data2)\n",
    "V2_frac_error = frac_error(V2_frac_axb, error_opening_AU2, V2_frac_spacing)\n",
    "V2_error = V2_frac_error*V2_spacing\n",
    "\n",
    "D2_frac_axb = frac_axb(H1_slope, H1_slope_error, H1_intercept, H1_intercept_error, sqrt_E2)\n",
    "D2_spacing_meas, D2_frac_spacing = spacing_AU(D_data2)\n",
    "D2_frac_error = frac_error(D2_frac_axb, error_opening_AU2, D2_frac_spacing)\n",
    "D2_error = D2_frac_error*D2_spacing"
   ]
  },
  {
   "cell_type": "code",
   "execution_count": 53,
   "metadata": {},
   "outputs": [
    {
     "name": "stdout",
     "output_type": "stream",
     "text": [
      "[0.19425988 0.18650772 0.19430432 0.19892555 0.20013313 0.18588637\n",
      " 0.18318712 0.18232856 0.16790689 0.17636242 0.18046295 0.18235409\n",
      " 0.18187754 0.17361929 0.1849025  0.1931611 ]\n"
     ]
    }
   ],
   "source": [
    "print(D_error)"
   ]
  },
  {
   "cell_type": "code",
   "execution_count": 54,
   "metadata": {},
   "outputs": [
    {
     "name": "stdout",
     "output_type": "stream",
     "text": [
      "Mean % error in V: 0.07207415773951117 \n",
      "Mean % error in H2: 0.07790374111190831 \n",
      "Mean % error in V2: 0.07971842492559178\n"
     ]
    }
   ],
   "source": [
    "# Averages of each error\n",
    "print('Mean % error in V:', np.mean(V_frac_error),\n",
    "      '\\nMean % error in H2:',  np.mean(H2_frac_error),\n",
    "      '\\nMean % error in V2:',  np.mean(V2_frac_error))"
   ]
  },
  {
   "cell_type": "markdown",
   "metadata": {},
   "source": [
    "# Plot theoretical spacing vs energy\n",
    "### for old camera data using new camera line fit"
   ]
  },
  {
   "cell_type": "code",
   "execution_count": 55,
   "metadata": {},
   "outputs": [
    {
     "data": {
      "text/plain": [
       "<matplotlib.legend.Legend at 0x52f5048>"
      ]
     },
     "execution_count": 55,
     "metadata": {},
     "output_type": "execute_result"
    },
    {
     "data": {
      "image/png": "[encoded data removed]",
      "text/plain": [
       "<Figure size 576x576 with 1 Axes>"
      ]
     },
     "metadata": {},
     "output_type": "display_data"
    }
   ],
   "source": [
    "## scatter plot sqrt energy vs calculated spacing with constant line at theoretical spacing\n",
    "fig = plt.figure(figsize=(8,8))\n",
    "ax1 = fig.add_subplot(111)\n",
    "\n",
    "x1 = sqrt_E\n",
    "x2 = sqrt_E2\n",
    "\n",
    "ax1.hlines(H_V_lattice, 7, 11.5)\n",
    "ax1.hlines(D_lattice, 7, 11.5)\n",
    "\n",
    "ax1.scatter(x1, H_spacing, label='H1', color='b')\n",
    "ax1.errorbar(x1, H_spacing, yerr=H_error, ls='none', color='b')\n",
    "\n",
    "ax1.scatter(x1, V_spacing, label='V1', color='g')\n",
    "ax1.errorbar(x1, V_spacing, yerr=V_error, ls='none', color='g')\n",
    "\n",
    "ax1.scatter(x1, D_spacing, label='D1', color='r')\n",
    "ax1.errorbar(x1, D_spacing, yerr=D_error, ls='none', color='r')\n",
    "\n",
    "\n",
    "ax1.scatter(x2, H2_spacing, label='H2', color='c')\n",
    "ax1.errorbar(x2, H2_spacing, yerr=H2_error, ls='none', color='c')\n",
    "\n",
    "ax1.scatter(x2, V2_spacing, label='V2', color='m')\n",
    "ax1.errorbar(x2, V2_spacing, yerr=V2_error, ls='none', color='m')\n",
    "\n",
    "ax1.scatter(x2, D2_spacing, label='D2', color='y')\n",
    "ax1.errorbar(x2, D2_spacing, yerr=D2_error, ls='none', color='y')\n",
    "\n",
    "\n",
    "plt.ylim(0,6)\n",
    "plt.title('Spacing calculated using H line fit')\n",
    "plt.xlabel('square root of electron energy')\n",
    "plt.ylabel('Spacing between points')\n",
    "plt.grid(b=True, axis='y')\n",
    "plt.legend()"
   ]
  },
  {
   "cell_type": "code",
   "execution_count": 56,
   "metadata": {},
   "outputs": [
    {
     "name": "stdout",
     "output_type": "stream",
     "text": [
      "[0.038475  0.0764375] [0.0831375 0.038475  0.0764375]\n"
     ]
    }
   ],
   "source": [
    "print(D2_spacing_meas[3:5], D_data2[2:5,4]- D_data2[2:5,0])"
   ]
  },
  {
   "cell_type": "code",
   "execution_count": 57,
   "metadata": {},
   "outputs": [
    {
     "name": "stdout",
     "output_type": "stream",
     "text": [
      "D_Xpeak_1              0.0505\n",
      "D_Half max left_1      0.0454\n",
      "D_Half max right_1     0.0608\n",
      "D_Height_2            33.9100\n",
      "D_Xpeak_2              0.6620\n",
      "D_Half max left_2      0.6520\n",
      "D_Half max right_2     0.6720\n",
      "Name: 4, dtype: float64\n"
     ]
    }
   ],
   "source": [
    "print(df2.loc[4][28:])"
   ]
  },
  {
   "cell_type": "code",
   "execution_count": null,
   "metadata": {},
   "outputs": [],
   "source": []
  }
 ],
 "metadata": {
  "kernelspec": {
   "display_name": "Python 3",
   "language": "python",
   "name": "python3"
  },
  "language_info": {
   "codemirror_mode": {
    "name": "ipython",
    "version": 3
   },
   "file_extension": ".py",
   "mimetype": "text/x-python",
   "name": "python",
   "nbconvert_exporter": "python",
   "pygments_lexer": "ipython3",
   "version": "3.6.5"
  }
 },
 "nbformat": 4,
 "nbformat_minor": 2
}
