{
 "cells": [
  {
   "cell_type": "markdown",
   "metadata": {},
   "source": [
    "# New camera data"
   ]
  },
  {
   "cell_type": "code",
   "execution_count": 1,
   "metadata": {},
   "outputs": [
    {
     "name": "stdout",
     "output_type": "stream",
     "text": [
      "Image number           1.0000\n",
      "Electron Energy       50.5000\n",
      "Opening                0.9870\n",
      "H_Length               0.6710\n",
      "H_Area                 6.5460\n",
      "H_Height_1            90.3040\n",
      "H_Xpeak_1              0.0450\n",
      "H_Half max left_1      0.0398\n",
      "H_Half max right_1     0.0546\n",
      "H_Height_2            80.5200\n",
      "H_Xpeak_2              0.6240\n",
      "H_Half max left_2      0.6170\n",
      "H_Half max right_2     0.6320\n",
      "Name: 0, dtype: float64 V_Height_1             91.5720\n",
      "V_Xpeak_1               0.0511\n",
      "V_Half max left_1       0.0398\n",
      "V_Half max right_1      0.0615\n",
      "V_Height_2            119.0640\n",
      "V_Xpeak_2               0.6230\n",
      "V_Half max left_2       0.6120\n",
      "V_Half max right_2      0.6340\n",
      "Name: 0, dtype: float64 D_Height_1             93.8770\n",
      "D_Xpeak_1               0.0414\n",
      "D_Half max left_1       0.0334\n",
      "D_Half max right_1      0.0495\n",
      "D_Height_2            108.4680\n",
      "D_Xpeak_2               0.8560\n",
      "D_Half max left_2       0.8480\n",
      "D_Half max right_2      0.8670\n",
      "Name: 0, dtype: float64\n"
     ]
    }
   ],
   "source": [
    "import matplotlib.pyplot as plt\n",
    "import numpy as np\n",
    "import pandas as pd\n",
    "\n",
    "df = pd.read_csv('New camera image data - Sheet1.csv')\n",
    "print(df.loc[0][0:13], df.loc[0][16:24], df.loc[0][27:35])\n",
    "data = df.values\n",
    "# print(data)"
   ]
  },
  {
   "cell_type": "code",
   "execution_count": 2,
   "metadata": {},
   "outputs": [],
   "source": [
    "### Constants ###\n",
    "N = 16   # number of images\n",
    "H_V_lattice = 3.493569812\n",
    "D_lattice = 2.470326905"
   ]
  },
  {
   "cell_type": "code",
   "execution_count": 34,
   "metadata": {},
   "outputs": [],
   "source": [
    "### Data Values ###\n",
    "electron_energy = data[:,1]\n",
    "sqrt_E = np.sqrt(electron_energy)\n",
    "\n",
    "opening_AU = data[:,2]\n",
    "opening_AU_best = np.mean(opening_AU)\n",
    "error_opening_AU = np.std(opening_AU)/opening_AU\n",
    "# print(error_opening_AU)\n",
    "\n",
    "H_data = data[:,5:13]\n",
    "# print(H_data[0,:], '||')\n",
    "V_data = data[:,16:24]\n",
    "# print(V_data[:,3], '||')\n",
    "D_data = data[:,27:]\n",
    "# print(D_data[0,:], '||')\n",
    "##need to fix first couple data points of diagonal data (divide spacing by 2 for first 4 measurements)\n",
    "###fixed in next cell"
   ]
  },
  {
   "cell_type": "code",
   "execution_count": 4,
   "metadata": {},
   "outputs": [],
   "source": [
    "D_data[:5,1] = .5*D_data[:5,1]\n",
    "D_data[:5,5] = .5*D_data[:5,5]\n",
    "# print(D_data[:6,5]-D_data[:6,1])"
   ]
  },
  {
   "cell_type": "code",
   "execution_count": 5,
   "metadata": {},
   "outputs": [],
   "source": [
    "### Calculated Values ###\n",
    "#Opening and opening error\n",
    "def recip_openingANDerror(lattice, data, Opening_A, Error_opening_AU):\n",
    "  spacing_AU = data[:,5] - data[:,1]\n",
    "  opening = lattice*(Opening_A/spacing_AU)\n",
    "  d_left = .5*(data[:,3] - data[:,2])\n",
    "  d_right = .5*(data[:,7] - data[:,6])\n",
    "  d_spacing = np.sqrt(np.square(d_left) + np.square(d_right))\n",
    "  frac_error = np.sqrt(np.square(d_spacing/spacing_AU) + np.square(Error_opening_AU/Opening_A))\n",
    "  error_recip = frac_error*opening\n",
    "  return opening, error_recip\n",
    "\n",
    "#least squares fit with error in slope and intercept\n",
    "def w_lst_sq(opening_recip, error_recip, e_energy, sqrt_e):\n",
    "  weights = 1/np.square(error_recip)\n",
    "  Delta = np.sum(weights)*np.sum(weights*e_energy)-np.square(np.sum(weights*sqrt_e))\n",
    "  intercept = ((np.sum(weights*e_energy)*np.sum(weights*opening_recip))\n",
    "               -(np.sum(weights*sqrt_e)*np.sum(weights*sqrt_e*opening_recip)))/Delta\n",
    "  slope = (np.sum(weights)*np.sum(weights*sqrt_e*opening_recip)-np.sum(weights*sqrt_e)*np.sum(weights*opening_recip))/Delta\n",
    "  intercept_error = np.sqrt(np.sum(weights*e_energy)/Delta)\n",
    "  slope_error = np.sqrt(np.sum(weights)/Delta)\n",
    "  return slope, slope_error, intercept, intercept_error"
   ]
  },
  {
   "cell_type": "code",
   "execution_count": 30,
   "metadata": {},
   "outputs": [],
   "source": [
    "# print(recip_openingANDerror(H_V_lattice, H_data, opening_AU, error_opening_AU))"
   ]
  },
  {
   "cell_type": "code",
   "execution_count": 7,
   "metadata": {},
   "outputs": [
    {
     "name": "stdout",
     "output_type": "stream",
     "text": [
      "H Slope + error, Intercept + error: (0.7707384404775303, 0.032738373721392336, 0.507881158392666, 0.29181443985253985)\n",
      "V Slope + error, Intercept + error: (0.7635937144289188, 0.046189895975685805, 0.6470749251271875, 0.4196262338284149)\n",
      "D Slope + error, Intercept + error: (0.7781788677967666, 0.05421326366739712, 0.4939931209205846, 0.4801376271888745)\n"
     ]
    }
   ],
   "source": [
    "H_recip_opening, H_opening_error = recip_openingANDerror(H_V_lattice, H_data, opening_AU, error_opening_AU)\n",
    "print('H Slope + error, Intercept + error:', w_lst_sq(H_recip_opening, H_opening_error, electron_energy, sqrt_E))\n",
    "\n",
    "V_recip_opening, V_opening_error = recip_openingANDerror(H_V_lattice, V_data, opening_AU, error_opening_AU)\n",
    "print('V Slope + error, Intercept + error:', w_lst_sq(V_recip_opening, V_opening_error, electron_energy, sqrt_E))\n",
    "\n",
    "D_recip_opening, D_opening_error = recip_openingANDerror(D_lattice, D_data, opening_AU, error_opening_AU)\n",
    "print('D Slope + error, Intercept + error:', w_lst_sq(D_recip_opening, D_opening_error, electron_energy, sqrt_E))"
   ]
  },
  {
   "cell_type": "code",
   "execution_count": 24,
   "metadata": {},
   "outputs": [],
   "source": [
    "H1_slope, H1_slope_error, H1_intercept, H1_intercept_error = w_lst_sq(H_recip_opening, H_opening_error, electron_energy, sqrt_E)\n",
    "V1_slope, V1_slope_error, V1_intercept, V1_intercept_error = w_lst_sq(V_recip_opening, V_opening_error, electron_energy, sqrt_E)\n"
   ]
  },
  {
   "cell_type": "markdown",
   "metadata": {},
   "source": [
    "# Old camera data"
   ]
  },
  {
   "cell_type": "code",
   "execution_count": 8,
   "metadata": {},
   "outputs": [],
   "source": [
    "df2 = pd.read_csv('Old Camera image data - Sheet1.csv')\n",
    "# print(df.loc[0][5:13], df.loc[0][16:24], df.loc[0][27:35])\n",
    "data2 = df2.values"
   ]
  },
  {
   "cell_type": "code",
   "execution_count": 35,
   "metadata": {},
   "outputs": [],
   "source": [
    "### Data Values ###\n",
    "N2 = 9\n",
    "electron_energy2 = data2[:,1]\n",
    "sqrt_E2 = np.sqrt(electron_energy2)\n",
    "\n",
    "opening_AU2 = data2[:,2]\n",
    "opening_AU_best2 = np.mean(opening_AU2)\n",
    "error_opening_AU2 = np.std(opening_AU2)/opening_AU2\n",
    "# print(error_opening_AU)\n",
    "\n",
    "H_data2 = data2[:,5:13]\n",
    "# print(H_data[0,:], '||')\n",
    "V_data2 = data2[:,16:24]\n",
    "# print(V_data[:,3], '||')\n",
    "D_data2 = data2[:,27:]\n",
    "# print(D_data[0,:], '||')"
   ]
  },
  {
   "cell_type": "code",
   "execution_count": 22,
   "metadata": {},
   "outputs": [
    {
     "name": "stdout",
     "output_type": "stream",
     "text": [
      "[0.5063 0.4939 0.4762 0.4514 0.4316 0.3839 0.3528 0.3488 0.3421]\n",
      "[0.925 0.938 0.926 0.927 0.937 0.865 0.863 0.864 0.867]\n"
     ]
    }
   ],
   "source": [
    "print(H_data2[:,5]-H_data2[:,1])\n",
    "print(opening_AU2)"
   ]
  },
  {
   "cell_type": "code",
   "execution_count": 23,
   "metadata": {},
   "outputs": [
    {
     "name": "stdout",
     "output_type": "stream",
     "text": [
      "H Slope + error, Intercept + error: (0.7356853298640228, 0.06504787657222415, 0.4607418125825584, 0.6075423644256985)\n",
      "V Slope + error, Intercept + error: (0.74456186531652, 0.07632082044925977, 0.4286790187063302, 0.7172379276254112)\n"
     ]
    }
   ],
   "source": [
    "# print(recip_openingANDerror(H_V_lattice, H_data2, opening_AU2, error_opening_AU2))\n",
    "H_recip_opening2, H_opening_error2 = recip_openingANDerror(H_V_lattice, H_data2, opening_AU2, error_opening_AU2)\n",
    "print('H Slope + error, Intercept + error:', w_lst_sq(H_recip_opening2, H_opening_error2, electron_energy2, sqrt_E2))\n",
    "\n",
    "V_recip_opening2, V_opening_error2 = recip_openingANDerror(H_V_lattice, V_data2, opening_AU2, error_opening_AU2)\n",
    "print('V Slope + error, Intercept + error:', w_lst_sq(V_recip_opening2, V_opening_error2, electron_energy2, sqrt_E2))\n",
    "\n",
    "# D_recip_opening2, D_opening_error2 = recip_openingANDerror(D_lattice, D_data2, opening_AU2, error_opening_AU2)\n",
    "# print('D Slope + error, Intercept + error:', w_lst_sq(D_recip_opening2, D_opening_error2, electron_energy2, sqrt_E2))"
   ]
  },
  {
   "cell_type": "code",
   "execution_count": 29,
   "metadata": {},
   "outputs": [],
   "source": [
    "H2_slope, H2_slope_error, H2_intercept, H2_intercept_error = w_lst_sq(H_recip_opening2, H_opening_error2, electron_energy2, sqrt_E2)\n",
    "V2_slope, V2_slope_error, V2_intercept, V2_intercept_error = w_lst_sq(V_recip_opening2, V_opening_error2, electron_energy2, sqrt_E2)"
   ]
  },
  {
   "cell_type": "markdown",
   "metadata": {},
   "source": [
    "## Error calculations"
   ]
  },
  {
   "cell_type": "code",
   "execution_count": 37,
   "metadata": {},
   "outputs": [],
   "source": [
    "def spacing_AU(data):\n",
    "    meas_spacing = data[:,5] - data[:,1]\n",
    "    spacing_frac_error = np.sqrt(np.square(.5*(data[:,3] - data[:,2])) + np.square(.5*(data[:,6] - data[:,5])))/meas_spacing\n",
    "    return meas_spacing, spacing_frac_error\n",
    "\n",
    "def frac_error(frac_ab, frac_open, frac_space):\n",
    "    tot_frac_error = np.sqrt(np.square(frac_ab) + np.square(frac_open) + np.square(frac_space))\n",
    "    return tot_frac_error\n",
    "\n",
    "def frac_axb(A, d_A, B, d_B, sqrt_e):\n",
    "    frac = np.sqrt(np.square(sqrt_e*d_A) + np.square(d_B))/(A*sqrt_e + B)\n",
    "    return frac\n",
    "\n",
    "def spacing_calc(energy, meas_opening, data):\n",
    "    meas_spacing = data[:,5] - data[:,1]\n",
    "#     d_left = .5*(data[:,3] - data[:,2])\n",
    "#     d_right = .5*(data[:,6] - data[:,5])\n",
    "#     d_spacing = np.sqrt(np.square(d_left) + np.square(d_right))\n",
    "    ratio = meas_spacing/meas_opening\n",
    "    direction = str(input('Which direction? H/V/D (case sensitive)'))\n",
    "    if direction == 'H':\n",
    "        opening_func = 0.7707384404775303*np.sqrt(energy) + 0.507881158392666\n",
    "    elif direction == 'V':\n",
    "        opening_func = 0.7635937144289188*np.sqrt(energy) + 0.6470749251271875\n",
    "    else:\n",
    "        opening_func = 0.7781788677967666*np.sqrt(energy) + 0.4939931209205846\n",
    "    \n",
    "    spacing = ratio*opening_func\n",
    "    return spacing"
   ]
  },
  {
   "cell_type": "code",
   "execution_count": 43,
   "metadata": {},
   "outputs": [
    {
     "name": "stdout",
     "output_type": "stream",
     "text": [
      "Which direction? H/V/D (case sensitive)H\n",
      "Which direction? H/V/D (case sensitive)H\n"
     ]
    }
   ],
   "source": [
    "H_spacing = spacing_calc(electron_energy, opening_AU, H_data)\n",
    "H2_spacing = spacing_calc(electron_energy2, opening_AU2, H_data2)"
   ]
  },
  {
   "cell_type": "code",
   "execution_count": 44,
   "metadata": {},
   "outputs": [
    {
     "name": "stdout",
     "output_type": "stream",
     "text": [
      "Which direction? H/V/D (case sensitive)V\n",
      "Which direction? H/V/D (case sensitive)V\n"
     ]
    }
   ],
   "source": [
    "V_spacing = spacing_calc(electron_energy, opening_AU, V_data)\n",
    "V2_spacing = spacing_calc(electron_energy2, opening_AU2, V_data2)"
   ]
  },
  {
   "cell_type": "code",
   "execution_count": 41,
   "metadata": {},
   "outputs": [],
   "source": [
    "H_frac_axb = frac_axb(H1_slope, H1_slope_error, H1_intercept, H1_intercept_error, sqrt_E)\n",
    "H_spacing_meas, H_frac_spacing = spacing_AU(H_data)\n",
    "H_frac_error = frac_error(H_frac_axb, error_opening_AU, H_frac_spacing)\n",
    "H_error = H_frac_error*H_spacing"
   ]
  },
  {
   "cell_type": "code",
   "execution_count": 42,
   "metadata": {},
   "outputs": [],
   "source": [
    "V_frac_axb = frac_axb(V1_slope, V1_slope_error, V1_intercept, V1_intercept_error, sqrt_E)\n",
    "V_spacing_meas, V_frac_spacing = spacing_AU(V_data)\n",
    "V_frac_error = frac_error(V_frac_axb, error_opening_AU, V_frac_spacing)\n",
    "V_error = V_frac_error*V_spacing"
   ]
  },
  {
   "cell_type": "code",
   "execution_count": 47,
   "metadata": {},
   "outputs": [],
   "source": [
    "H2_frac_axb = frac_axb(H2_slope, H2_slope_error, H2_intercept, H2_intercept_error, sqrt_E2)\n",
    "H2_spacing_meas, H2_frac_spacing = spacing_AU(H_data2)\n",
    "H2_frac_error = frac_error(H2_frac_axb, error_opening_AU2, H2_frac_spacing)\n",
    "H2_error = H2_frac_error*H2_spacing\n",
    "\n",
    "V2_frac_axb = frac_axb(V2_slope, V2_slope_error, V2_intercept, V2_intercept_error, sqrt_E2)\n",
    "V2_spacing_meas, V2_frac_spacing = spacing_AU(V_data2)\n",
    "V2_frac_error = frac_error(V2_frac_axb, error_opening_AU2, V2_frac_spacing)\n",
    "V2_error = V2_frac_error*V2_spacing"
   ]
  },
  {
   "cell_type": "markdown",
   "metadata": {},
   "source": [
    "## Fit comparison"
   ]
  },
  {
   "cell_type": "code",
   "execution_count": 28,
   "metadata": {},
   "outputs": [
    {
     "name": "stdout",
     "output_type": "stream",
     "text": [
      "0.035053110613507465 0.04713934581010759\n",
      "0.019031849112398747 0.21839590642085727\n"
     ]
    }
   ],
   "source": [
    "print(H1_slope - H2_slope, H1_intercept - H2_intercept)\n",
    "print(V1_slope - V2_slope, V1_intercept - V2_intercept)"
   ]
  },
  {
   "cell_type": "code",
   "execution_count": 71,
   "metadata": {},
   "outputs": [
    {
     "data": {
      "text/plain": [
       "<matplotlib.legend.Legend at 0x54a87f0>"
      ]
     },
     "execution_count": 71,
     "metadata": {},
     "output_type": "execute_result"
    },
    {
     "data": {
      "image/png": "[encoded data removed]",
      "text/plain": [
       "<Figure size 640x640 with 1 Axes>"
      ]
     },
     "metadata": {},
     "output_type": "display_data"
    }
   ],
   "source": [
    "#plot lines on top of each other with shaded uncertainties\n",
    "\n",
    "x1 = sqrt_E\n",
    "x2 = sqrt_E2\n",
    "y1 = H1_slope*x1 + H1_intercept\n",
    "y2 = H2_slope*x2 + H2_intercept\n",
    "\n",
    "plt.figure(num=None, figsize=(8, 8), dpi=80, facecolor='w', edgecolor='k')\n",
    "\n",
    "plt.plot(x1, y1, 'k', color='#CC4F1B', label = 'fit1')\n",
    "plt.fill_between(x1, y1-H_error, y1+H_error, alpha=0.5, edgecolor='#CC4F1B', facecolor='#FF9848')\n",
    "\n",
    "plt.plot(x2, y2, 'k', color='#1B2ACC', label = 'fit2')\n",
    "plt.fill_between(x2, y2-H2_error, y2+H2_error, alpha=0.5, edgecolor='#1B2ACC', facecolor='#089FFF')\n",
    "plt.legend(loc = 2)"
   ]
  },
  {
   "cell_type": "code",
   "execution_count": null,
   "metadata": {},
   "outputs": [],
   "source": []
  }
 ],
 "metadata": {
  "kernelspec": {
   "display_name": "Python 3",
   "language": "python",
   "name": "python3"
  },
  "language_info": {
   "codemirror_mode": {
    "name": "ipython",
    "version": 3
   },
   "file_extension": ".py",
   "mimetype": "text/x-python",
   "name": "python",
   "nbconvert_exporter": "python",
   "pygments_lexer": "ipython3",
   "version": "3.6.5"
  }
 },
 "nbformat": 4,
 "nbformat_minor": 2
}
